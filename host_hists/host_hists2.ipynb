{
 "cells": [
  {
   "cell_type": "code",
   "execution_count": 33,
   "metadata": {},
   "outputs": [],
   "source": [
    "import os\n",
    "import copy\n",
    "import pickle\n",
    "import numpy as np\n",
    "import glob\n",
    "\n",
    "# matplotlib\n",
    "import matplotlib\n",
    "import matplotlib.pyplot as plt\n",
    "from matplotlib.patches import Ellipse\n",
    "\n",
    "# astropy\n",
    "from astropy.io import fits\n",
    "from astropy.nddata import Cutout2D\n",
    "from astropy.utils.data import download_file\n",
    "from astropy.coordinates import SkyCoord, Angle\n",
    "from astropy import wcs\n",
    "from astropy.table import Table,vstack\n",
    "import astropy.units as u\n",
    "import matplotlib.pyplot as plt \n",
    "\n",
    "\n",
    "import sys\n",
    "# so can find module one dir back; don't need to explicitly put .py into each subfolder \n",
    "sys.path.append(\"..\")\n",
    "from candels_galaxy_surveys import galaxy_catalog,galaxy_survey\n",
    "import update_galaxy_survey"
   ]
  },
  {
   "cell_type": "markdown",
   "metadata": {},
   "source": [
    "These pickles are for the supernova of HST catalog. They are lists, each item in list is another 3 element list for a given supernova. The elements being... \n",
    "\n",
    "1: table identifying supernova\n",
    "\n",
    "2: survey for nearby to host\n",
    "\n",
    "3: the host (more specifically it is the nearest function on the nearby which returns list of: [survey for host, ell radii host, other nearby ell radii])\n",
    "\n",
    "Each is about 10 MB; I'll try to push that to github see if it is okay with storing them."
   ]
  },
  {
   "cell_type": "code",
   "execution_count": 34,
   "metadata": {},
   "outputs": [],
   "source": [
    "candels_Ias = pickle.load(open('host_data/candels_Ias.pkl','rb'))\n",
    "candels_CCs = pickle.load(open('host_data/candels_CCs.pkl','rb'))\n",
    "candels_SNs = pickle.load(open('host_data/candels_SNs.pkl','rb')) # type unknown \n",
    "goods_Ias = pickle.load(open('host_data/goods_Ias.pkl','rb'))\n",
    "goods_CCs = pickle.load(open('host_data/goods_CCs.pkl','rb'))"
   ]
  },
  {
   "cell_type": "markdown",
   "metadata": {},
   "source": [
    "Note the supernova for candels are classified just using the PIaz in table. At the moment unknown is 0.75>PIa>0.25\n",
    "\n",
    "The supernova for goods have type in table for each. \n",
    "\n",
    "No new classifications based on my own lightcurve fitting, just using results given from initial data."
   ]
  },
  {
   "cell_type": "markdown",
   "metadata": {},
   "source": [
    "Next cell uses the host from these pickles gets parameters  (age, mass, sfr, and redshift) for the different types.\n",
    "\n",
    "Puts the list of values for each into 4 element list. 1~Ia, 2~CC, 3~Unsure, 4~All the SN\n",
    "\n",
    "Should make note that the age, mass, and sfr are for the '2a_tau' method where tau is another available parameter in the survey tables. My guess is tau is some decay parameter to an assumed exponential decay for the galaxies star formation history. \n",
    "\n",
    "The exact meaning of the method and tau however remain unclear despite my searching all of the read mes where these data come from. Need/would like to find precise definition of this method and difference from all the others available in survey table. "
   ]
  },
  {
   "cell_type": "code",
   "execution_count": 35,
   "metadata": {},
   "outputs": [
    {
     "name": "stderr",
     "output_type": "stream",
     "text": [
      "/Users/kyleoconnor/anaconda2/envs/py3/lib/python3.7/site-packages/ipykernel_launcher.py:23: RuntimeWarning: invalid value encountered in log10\n",
      "/Users/kyleoconnor/anaconda2/envs/py3/lib/python3.7/site-packages/ipykernel_launcher.py:43: RuntimeWarning: invalid value encountered in log10\n",
      "/Users/kyleoconnor/anaconda2/envs/py3/lib/python3.7/site-packages/ipykernel_launcher.py:99: RuntimeWarning: invalid value encountered in log10\n"
     ]
    }
   ],
   "source": [
    "# These are the host galaxies...\n",
    "zs = [[],[],[],[]]# Ia, CC, unsure, All\n",
    "# 2a_tau\n",
    "ages = [[],[],[],[]] # Ia, CC, unsure, All\n",
    "masses = [[],[],[],[]]\n",
    "sfr = [[],[],[],[]]\n",
    "\n",
    "# Ia hosts\n",
    "for i in range(len(candels_Ias)):\n",
    "    \n",
    "    # don't know why I named it cat it is the host survey\n",
    "    cat = candels_Ias[i][-1][0] \n",
    "    \n",
    "    # goods-n has slightly different table structure than all the others\n",
    "    # need this slightly annoying check\n",
    "    if cat.source != 'Skelton14; goods-n_3dhst; https://3dhst.research.yale.edu/Data.php':\n",
    "        #print(i,cat.source)\n",
    "        zs[0].append(cat.mass[cat.redshift_names])\n",
    "        masses[0].append(cat.mass[cat.mass_2a_tau])\n",
    "        ages[0].append(cat.physpar[cat.age_2a_tau])\n",
    "        sfr_val = cat.physpar[cat.sfr_2a_tau] \n",
    "        # I want sfr for all to be in log(solmass/yr) ie dex where is just order of mag solmass/yr\n",
    "        sfr_val = np.log10(sfr_val) \n",
    "        sfr[0].append(sfr_val)\n",
    "    elif cat.source == 'Skelton14; goods-n_3dhst; https://3dhst.research.yale.edu/Data.php':\n",
    "        zs[0].append(cat.mass[cat.redshift_names])\n",
    "        masses[0].append(cat.mass[cat.lmass])\n",
    "        ages[0].append(cat.mass[cat.lage])\n",
    "        sfr[0].append(cat.mass[cat.lsfr])\n",
    "        # If vice-versa ie decide I want solmass/yr rather dex(solmass/yr) I need this expression\n",
    "        # print(cat.mass[cat.lsfr],10**np.float(cat.mass[cat.lsfr]))\n",
    "    else: print('wtf?')\n",
    "\n",
    "for i in range(len(goods_Ias)):\n",
    "    \n",
    "    cat = goods_Ias[i][-1][0] \n",
    "    \n",
    "    if cat.source != 'Skelton14; goods-n_3dhst; https://3dhst.research.yale.edu/Data.php':\n",
    "        zs[0].append(cat.mass[cat.redshift_names])\n",
    "        masses[0].append(cat.mass[cat.mass_2a_tau])\n",
    "        ages[0].append(cat.physpar[cat.age_2a_tau])\n",
    "        sfr_val = cat.physpar[cat.sfr_2a_tau] \n",
    "        sfr_val = np.log10(sfr_val) \n",
    "        sfr[0].append(sfr_val)\n",
    "    elif cat.source == 'Skelton14; goods-n_3dhst; https://3dhst.research.yale.edu/Data.php':\n",
    "        zs[0].append(cat.mass[cat.redshift_names])\n",
    "        masses[0].append(cat.mass[cat.lmass])\n",
    "        ages[0].append(cat.mass[cat.lage])\n",
    "        sfr[0].append(cat.mass[cat.lsfr])\n",
    "    else: print('wtf?')   \n",
    "        \n",
    "# Core collapse hosts\n",
    "for i in range(len(candels_CCs)):\n",
    "    \n",
    "    cat = candels_CCs[i][-1][0] \n",
    "    \n",
    "    if cat.source != 'Skelton14; goods-n_3dhst; https://3dhst.research.yale.edu/Data.php':\n",
    "        zs[1].append(cat.mass[cat.redshift_names])\n",
    "        masses[1].append(cat.mass[cat.mass_2a_tau])\n",
    "        ages[1].append(cat.physpar[cat.age_2a_tau])\n",
    "        sfr_val = cat.physpar[cat.sfr_2a_tau] \n",
    "        sfr_val = np.log10(sfr_val) \n",
    "        sfr[1].append(sfr_val)\n",
    "    elif cat.source == 'Skelton14; goods-n_3dhst; https://3dhst.research.yale.edu/Data.php':\n",
    "        zs[1].append(cat.mass[cat.redshift_names])\n",
    "        masses[1].append(cat.mass[cat.lmass])\n",
    "        ages[1].append(cat.mass[cat.lage])\n",
    "        sfr[1].append(cat.mass[cat.lsfr])\n",
    "    else: print('wtf?')\n",
    "\n",
    "for i in range(len(goods_CCs)):\n",
    "    \n",
    "    cat = goods_CCs[i][-1][0]\n",
    "    \n",
    "    if cat.source != 'Skelton14; goods-n_3dhst; https://3dhst.research.yale.edu/Data.php':\n",
    "        zs[1].append(cat.mass[cat.redshift_names])\n",
    "        masses[1].append(cat.mass[cat.mass_2a_tau])\n",
    "        ages[1].append(cat.physpar[cat.age_2a_tau])\n",
    "        sfr_val = cat.physpar[cat.sfr_2a_tau] \n",
    "        sfr_val = np.log10(sfr_val) \n",
    "        sfr[1].append(sfr_val)\n",
    "    elif cat.source == 'Skelton14; goods-n_3dhst; https://3dhst.research.yale.edu/Data.php':\n",
    "        zs[1].append(cat.mass[cat.redshift_names])\n",
    "        masses[1].append(cat.mass[cat.lmass])\n",
    "        ages[1].append(cat.mass[cat.lage])\n",
    "        sfr[1].append(cat.mass[cat.lsfr])\n",
    "    else: print('wtf?')   \n",
    "\n",
    "# Unsure type sn hosts\n",
    "for i in range(len(candels_SNs)):\n",
    "    cat = candels_SNs[i][-1][0] \n",
    "    \n",
    "    if cat.source != 'Skelton14; goods-n_3dhst; https://3dhst.research.yale.edu/Data.php':\n",
    "        zs[2].append(cat.mass[cat.redshift_names])\n",
    "        masses[2].append(cat.mass[cat.mass_2a_tau])\n",
    "        ages[2].append(cat.physpar[cat.age_2a_tau])\n",
    "        #sfr[2].append(cat.physpar[cat.sfr_2a_tau])\n",
    "        sfr_val = cat.physpar[cat.sfr_2a_tau] \n",
    "        sfr_val = np.log10(sfr_val) \n",
    "        sfr[2].append(sfr_val)\n",
    "    elif cat.source == 'Skelton14; goods-n_3dhst; https://3dhst.research.yale.edu/Data.php':\n",
    "        zs[2].append(cat.mass[cat.redshift_names])\n",
    "        masses[2].append(cat.mass[cat.lmass])\n",
    "        ages[2].append(cat.mass[cat.lage])\n",
    "        sfr[2].append(cat.mass[cat.lsfr])\n",
    "    else: print('wtf?')"
   ]
  },
  {
   "cell_type": "markdown",
   "metadata": {},
   "source": [
    "Making sure the host data is all floats and removing bad/unknown data in next cell"
   ]
  },
  {
   "cell_type": "code",
   "execution_count": 36,
   "metadata": {},
   "outputs": [],
   "source": [
    "# Formatting data \n",
    "\n",
    "# all into floats\n",
    "zs[0] = [np.float(i) for i in zs[0]]\n",
    "masses[0] = [np.float(i) for i in masses[0]]\n",
    "ages[0] = [np.float(i) for i in ages[0]]\n",
    "sfr[0] = [np.float(i) for i in sfr[0]]\n",
    "\n",
    "zs[1] = [np.float(i) for i in zs[1]]\n",
    "masses[1] = [np.float(i) for i in masses[1]]\n",
    "ages[1] = [np.float(i) for i in ages[1]]\n",
    "sfr[1] = [np.float(i) for i in sfr[1]]\n",
    "\n",
    "zs[2] = [np.float(i) for i in zs[2]]\n",
    "masses[2] = [np.float(i) for i in masses[2]]\n",
    "ages[2] = [np.float(i) for i in ages[2]]\n",
    "sfr[2] = [np.float(i) for i in sfr[2]]\n",
    "\n",
    "# filter out unknowns reported as -99.0 \n",
    "masses[0] = list(filter(lambda a: a != -99.0, masses[0]))\n",
    "masses[1] = list(filter(lambda a: a != -99.0, masses[1]))\n",
    "masses[2] = list(filter(lambda a: a != -99.0, masses[2]))\n",
    "\n",
    "\n",
    "ages[0] = list(filter(lambda a: a != -99.0, ages[0]))\n",
    "ages[1] = list(filter(lambda a: a != -99.0, ages[1]))\n",
    "ages[2] = list(filter(lambda a: a != -99.0, ages[2]))\n",
    "\n",
    "sfr[0] = list(filter(lambda a: a != -99.0, sfr[0]))\n",
    "sfr[1] = list(filter(lambda a: a != -99.0, sfr[1]))\n",
    "sfr[2] = list(filter(lambda a: a != -99.0, sfr[2]))\n",
    "\n",
    "# combine both types to put in all\n",
    "zs[3] = zs[0] + zs[1] + zs[2]\n",
    "masses[3] = masses[0] + masses[1] + masses[2]\n",
    "ages[3] = ages[0] + ages[1] + ages[2]\n",
    "sfr[3] = sfr[0] + sfr[1] + sfr[2]"
   ]
  },
  {
   "cell_type": "markdown",
   "metadata": {},
   "source": [
    "Getting the redshift of the SN to see how well agrees with the hosts z\n",
    "subtracting SN - Host redshift"
   ]
  },
  {
   "cell_type": "code",
   "execution_count": 72,
   "metadata": {},
   "outputs": [],
   "source": [
    "# zs has the redshifts of host w/ sn\n",
    "# want to look at the preliminary given z for the SN to see which disagree w my host\n",
    "zSNs = [[],[],[],[]] # Ia, CC, ?, All\n",
    "# Ia\n",
    "for i in range(len(candels_Ias)):\n",
    "    zSNs[0].append(candels_Ias[i][0]['zSN'])\n",
    "for i in range(len(goods_Ias)):\n",
    "    zSNs[0].append(goods_Ias[i][0]['z'])\n",
    "zSNs[0] = [np.float(i) for i in zSNs[0]]\n",
    "\n",
    "# CC\n",
    "for i in range(len(candels_CCs)):\n",
    "    zSNs[1].append(candels_CCs[i][0]['zSN'])\n",
    "for i in range(len(goods_CCs)):\n",
    "    zSNs[1].append(goods_CCs[i][0]['z'])\n",
    "zSNs[1] = [np.float(i) for i in zSNs[1]]\n",
    "\n",
    "# Unknown\n",
    "for i in range(len(candels_SNs)):\n",
    "    zSNs[2].append(candels_SNs[i][0]['zSN'])\n",
    "zSNs[2] = [np.float(i) for i in zSNs[2]]\n",
    "\n",
    "# All\n",
    "zSNs[3] = zSNs[0] + zSNs[1] + zSNs[2]\n",
    "\n",
    "dzs = []\n",
    "for i in range(len(zs)):\n",
    "    dzs.append(np.subtract(zSNs[i],zs[i]))"
   ]
  },
  {
   "cell_type": "code",
   "execution_count": 98,
   "metadata": {},
   "outputs": [],
   "source": [
    "# gets index of any |dz| > 0.1 from all the SN. (in order cIa,gIa,cCC,gCC,c??)\n",
    "idx = []\n",
    "for i in range(len(dzs[3])):\n",
    "    if np.abs(dzs[3][i]) > 0.1:\n",
    "        idx.append(i)\n",
    "\n",
    "discrepants = []\n",
    "# put the sn catalog list together in order to draw these discrepants from using idx\n",
    "full = candels_Ias+goods_Ias+candels_CCs+goods_CCs+candels_SNs\n",
    "for i in idx:\n",
    "    discrepants.append([full[i],[zSNs[3][i],zs[3][i],dzs[3][i]]])\n",
    "\n",
    "pickle.dump(discrepants,open('host_data/discrepant_host.pkl','wb'))"
   ]
  },
  {
   "cell_type": "code",
   "execution_count": 78,
   "metadata": {},
   "outputs": [
    {
     "data": {
      "text/plain": [
       "Text(0.5, 1.0, 'SN - Host Redshift')"
      ]
     },
     "execution_count": 78,
     "metadata": {},
     "output_type": "execute_result"
    },
    {
     "data": {
      "image/png": "[encoded data removed]",
      "text/plain": [
       "<Figure size 432x288 with 1 Axes>"
      ]
     },
     "metadata": {
      "needs_background": "light"
     },
     "output_type": "display_data"
    }
   ],
   "source": [
    "plt.plot(zs[0],dzs[0],'o',label='Ia',color='red')\n",
    "plt.plot(zs[1],dzs[1],'o',label='CC',color='blue')\n",
    "plt.plot(zs[2],dzs[2],'o',label='Unknown',color='green')\n",
    "plt.ylabel('dz',size=18)\n",
    "plt.xlabel('zhost',size=18)\n",
    "plt.title('SN - Host Redshift',size=24)"
   ]
  },
  {
   "cell_type": "markdown",
   "metadata": {},
   "source": [
    "The next two cells are doing similar (retrieving/formatting) the parameters for all of the galaxies in each field so we have some average to compare any host shifts to.\n",
    "\n",
    "You will need the survey pickles of each field in my galaxy_data folder which is too large to store on github but I can provide."
   ]
  },
  {
   "cell_type": "code",
   "execution_count": 31,
   "metadata": {},
   "outputs": [
    {
     "data": {
      "text/plain": [
       "\"\\nzcos = [np.float(i) for i in gc.cos[0].mass[gc.cos[0].redshift_names]]\\nzegs = [np.float(i) for i in gc.egs[0].mass[gc.egs[0].redshift_names]]\\nzgoodss = [np.float(i) for i in gc.goodss[0].mass[gc.goodss[0].redshift_names]]\\nzuds = [np.float(i) for i in gc.uds[0].mass[gc.uds[0].redshift_names]]\\nzgoodsn = [np.float(i) for i in gc.goodsn[0].mass[gc.goodsn[0].redshift_names]]\\n\\nmcos = [np.float(i) for i in gc.cos[0].mass[gc.cos[0].mass_2a_tau]]\\nmegs = [np.float(i) for i in gc.egs[0].mass[gc.egs[0].mass_2a_tau]]\\nmgoodss = [np.float(i) for i in gc.goodss[0].mass[gc.goodss[0].mass_2a_tau]]\\nmuds = [np.float(i) for i in gc.uds[0].mass[gc.uds[0].mass_2a_tau]]\\nmgoodsn = [np.float(i) for i in gc.goodsn[0].mass[gc.goodsn[0].lmass]]\\n\\n\\n# Word of caution \\n# goods-n is the outlier; the catalogs aren't as similar as they are for the other fields\\n# for example the next two parameters are in a different catalog for goods-n from the others \\n# if you look at script the table for each parameter is available if have any questions\\nagecos = [np.float(i) for i in gc.cos[0].physpar[gc.cos[0].age_2a_tau]]\\nageegs = [np.float(i) for i in gc.egs[0].physpar[gc.egs[0].age_2a_tau]]\\nagegoodss = [np.float(i) for i in gc.goodss[0].physpar[gc.goodss[0].age_2a_tau]]\\nageuds = [np.float(i) for i in gc.uds[0].physpar[gc.uds[0].age_2a_tau]]\\nagegoodsn = [np.float(i) for i in gc.goodsn[0].mass[gc.goodsn[0].lage]]\\n\\nsfrcos = [np.float(i) for i in gc.cos[0].physpar[gc.cos[0].sfr_2a_tau]]\\nsfregs = [np.float(i) for i in gc.egs[0].physpar[gc.egs[0].sfr_2a_tau]]\\nsfrgoodss = [np.float(i) for i in gc.goodss[0].physpar[gc.goodss[0].sfr_2a_tau]]\\nsfruds = [np.float(i) for i in gc.uds[0].physpar[gc.uds[0].sfr_2a_tau]]\\nsfrgoodsn = [np.float(i) for i in gc.goodsn[0].mass[gc.goodsn[0].lsfr]]\\n\""
      ]
     },
     "execution_count": 31,
     "metadata": {},
     "output_type": "execute_result"
    }
   ],
   "source": [
    "# These are for all galaxies in catalog so can have reference for shifts of hosts\n",
    "# Data needed is field pickles in galaxy_data folder\n",
    "\n",
    "cats = ['cos','uds','goodss','egs','goodsn']\n",
    "gc = galaxy_catalog(cats)\n",
    "\n",
    "# make sure the surveys are up to date\n",
    "gc.cos = update_galaxy_survey.update_survey(gc.cos)\n",
    "gc.egs = update_galaxy_survey.update_survey(gc.egs)\n",
    "gc.goodss = update_galaxy_survey.update_survey(gc.goodss)\n",
    "gc.uds = update_galaxy_survey.update_survey(gc.uds)\n",
    "gc.goodsn = update_galaxy_survey.update_survey(gc.goodsn)\n",
    "\n",
    "# Getting parameters for all the galaxies in each field\n",
    "zcos = [np.float(i) for i in gc.cos.mass[gc.cos.redshift_names]]\n",
    "zegs = [np.float(i) for i in gc.egs.mass[gc.egs.redshift_names]]\n",
    "zgoodss = [np.float(i) for i in gc.goodss.mass[gc.goodss.redshift_names]]\n",
    "zuds = [np.float(i) for i in gc.uds.mass[gc.uds.redshift_names]]\n",
    "zgoodsn = [np.float(i) for i in gc.goodsn.mass[gc.goodsn.redshift_names]]\n",
    "\n",
    "mcos = [np.float(i) for i in gc.cos.mass[gc.cos.mass_2a_tau]]\n",
    "megs = [np.float(i) for i in gc.egs.mass[gc.egs.mass_2a_tau]]\n",
    "mgoodss = [np.float(i) for i in gc.goodss.mass[gc.goodss.mass_2a_tau]]\n",
    "muds = [np.float(i) for i in gc.uds.mass[gc.uds.mass_2a_tau]]\n",
    "mgoodsn = [np.float(i) for i in gc.goodsn.mass[gc.goodsn.lmass]]\n",
    "\n",
    "\n",
    "# Word of caution \n",
    "# goods-n is the outlier; the catalogs aren't as similar as they are for the other fields\n",
    "# for example the next two parameters are in a different catalog for goods-n from the others \n",
    "# if you look at script the table for each parameter is available if have any questions\n",
    "agecos = [np.float(i) for i in gc.cos.physpar[gc.cos.age_2a_tau]]\n",
    "ageegs = [np.float(i) for i in gc.egs.physpar[gc.egs.age_2a_tau]]\n",
    "agegoodss = [np.float(i) for i in gc.goodss.physpar[gc.goodss.age_2a_tau]]\n",
    "ageuds = [np.float(i) for i in gc.uds.physpar[gc.uds.age_2a_tau]]\n",
    "agegoodsn = [np.float(i) for i in gc.goodsn.mass[gc.goodsn.lage]]\n",
    "\n",
    "sfrcos = [np.float(i) for i in gc.cos.physpar[gc.cos.sfr_2a_tau]]\n",
    "sfregs = [np.float(i) for i in gc.egs.physpar[gc.egs.sfr_2a_tau]]\n",
    "sfrgoodss = [np.float(i) for i in gc.goodss.physpar[gc.goodss.sfr_2a_tau]]\n",
    "sfruds = [np.float(i) for i in gc.uds.physpar[gc.uds.sfr_2a_tau]]\n",
    "sfrgoodsn = [np.float(i) for i in gc.goodsn.mass[gc.goodsn.lsfr]]\n",
    "\n",
    "# If gc.field returns a list need to index\n",
    "\"\"\"\n",
    "zcos = [np.float(i) for i in gc.cos[0].mass[gc.cos[0].redshift_names]]\n",
    "zegs = [np.float(i) for i in gc.egs[0].mass[gc.egs[0].redshift_names]]\n",
    "zgoodss = [np.float(i) for i in gc.goodss[0].mass[gc.goodss[0].redshift_names]]\n",
    "zuds = [np.float(i) for i in gc.uds[0].mass[gc.uds[0].redshift_names]]\n",
    "zgoodsn = [np.float(i) for i in gc.goodsn[0].mass[gc.goodsn[0].redshift_names]]\n",
    "\n",
    "mcos = [np.float(i) for i in gc.cos[0].mass[gc.cos[0].mass_2a_tau]]\n",
    "megs = [np.float(i) for i in gc.egs[0].mass[gc.egs[0].mass_2a_tau]]\n",
    "mgoodss = [np.float(i) for i in gc.goodss[0].mass[gc.goodss[0].mass_2a_tau]]\n",
    "muds = [np.float(i) for i in gc.uds[0].mass[gc.uds[0].mass_2a_tau]]\n",
    "mgoodsn = [np.float(i) for i in gc.goodsn[0].mass[gc.goodsn[0].lmass]]\n",
    "\n",
    "\n",
    "# Word of caution \n",
    "# goods-n is the outlier; the catalogs aren't as similar as they are for the other fields\n",
    "# for example the next two parameters are in a different catalog for goods-n from the others \n",
    "# if you look at script the table for each parameter is available if have any questions\n",
    "agecos = [np.float(i) for i in gc.cos[0].physpar[gc.cos[0].age_2a_tau]]\n",
    "ageegs = [np.float(i) for i in gc.egs[0].physpar[gc.egs[0].age_2a_tau]]\n",
    "agegoodss = [np.float(i) for i in gc.goodss[0].physpar[gc.goodss[0].age_2a_tau]]\n",
    "ageuds = [np.float(i) for i in gc.uds[0].physpar[gc.uds[0].age_2a_tau]]\n",
    "agegoodsn = [np.float(i) for i in gc.goodsn[0].mass[gc.goodsn[0].lage]]\n",
    "\n",
    "sfrcos = [np.float(i) for i in gc.cos[0].physpar[gc.cos[0].sfr_2a_tau]]\n",
    "sfregs = [np.float(i) for i in gc.egs[0].physpar[gc.egs[0].sfr_2a_tau]]\n",
    "sfrgoodss = [np.float(i) for i in gc.goodss[0].physpar[gc.goodss[0].sfr_2a_tau]]\n",
    "sfruds = [np.float(i) for i in gc.uds[0].physpar[gc.uds[0].sfr_2a_tau]]\n",
    "sfrgoodsn = [np.float(i) for i in gc.goodsn[0].mass[gc.goodsn[0].lsfr]]\n",
    "\"\"\""
   ]
  },
  {
   "cell_type": "code",
   "execution_count": null,
   "metadata": {},
   "outputs": [],
   "source": [
    "# filter unknowns... -99.0\n",
    "mcos = list(filter(lambda a: a != -99.0, mcos))\n",
    "megs = list(filter(lambda a: a != -99.0, megs))\n",
    "mgoodss = list(filter(lambda a: a != -99.0, mgoodss))\n",
    "muds = list(filter(lambda a: a != -99.0, muds))\n",
    "mgoodsn = list(filter(lambda a: a != -99.0, mgoodsn))\n",
    "\n",
    "agecos = list(filter(lambda a: a != -99.0, agecos))\n",
    "ageegs = list(filter(lambda a: a != -99.0, ageegs))\n",
    "agegoodss = list(filter(lambda a: a != -99.0, agegoodss))\n",
    "ageuds = list(filter(lambda a: a != -99.0, ageuds))\n",
    "agegoodsn = list(filter(lambda a: a != -99.0, agegoodsn))\n",
    "\n",
    "sfrcos = list(filter(lambda a: a != -99.0, sfrcos))\n",
    "sfregs = list(filter(lambda a: a != -99.0, sfregs))\n",
    "sfrgoodss = list(filter(lambda a: a != -99.0, sfrgoodss))\n",
    "sfruds = list(filter(lambda a: a != -99.0, sfruds))\n",
    "sfrgoodsn = list(filter(lambda a: a != -99.0, sfrgoodsn))\n",
    "\n",
    "# taking out sfr = 0 msol/yr (~dead dormant galaxies) in goods-s and uds so log10 -> dex(msolar)/yr doesn't -inf explode\n",
    "sfruds = list(filter(lambda a: a != 0, sfruds))\n",
    "sfrgoodss = list(filter(lambda a: a != 0, sfrgoodss))\n",
    "\n",
    "\n",
    "# changing sfr for all but goodsn; want them to be in dex(solar mass)/yr rather than just solar mass/yr\n",
    "sfrcos = [np.log10(i) for i in sfrcos]\n",
    "sfregs = [np.log10(i) for i in sfregs]\n",
    "sfruds = [np.log10(i) for i in sfruds]\n",
    "sfrgoodss = [np.log10(i) for i in sfrgoodss]\n",
    "\n",
    "# combine to get full \n",
    "zall = zcos + zegs + zgoodss + zuds + zgoodsn\n",
    "mall = mcos + megs + mgoodss + muds + mgoodsn\n",
    "ageall = agecos + ageegs + agegoodss + ageuds + agegoodsn\n",
    "sfrall = sfrcos + sfregs + sfrgoodss + sfruds + sfrgoodsn"
   ]
  },
  {
   "cell_type": "code",
   "execution_count": null,
   "metadata": {},
   "outputs": [],
   "source": [
    "import seaborn as sns\n",
    "from scipy.stats import norm                                                  \n",
    "plt.hist(sfr[0],color='r',label='Ia',alpha = 0.5,density=True)\n",
    "plt.hist(sfr[1],color='b',label='CC',alpha=0.5,density=True)\n",
    "#plt.hist(sfr[3],color='green',label='All SN',alpha = 0.3,normed=True)\n",
    "\n",
    "plt.xlabel('dex($M_\\odot$)/yr',size='18')\n",
    "plt.legend()\n",
    "plt.title('Host SFRs',size=24)\n",
    "\n",
    "\n",
    "sns.distplot(sfrall, hist=False, kde=True, \n",
    "             bins=int(180/5), label='All Gal',color = 'black', \n",
    "             hist_kws={'edgecolor':'black'},\n",
    "             kde_kws={'linewidth': 4})\n",
    "sns.distplot(sfr[3], hist=False, kde=True, \n",
    "             bins=int(180/5), label='All SN',color = 'green', \n",
    "             hist_kws={'edgecolor':'green'},\n",
    "             kde_kws={'linewidth': 4})\n",
    "plt.xlim(-10,3)\n",
    "#plt.show()\n",
    "plt.savefig('images/HostSfr',bbox_inches='tight')"
   ]
  },
  {
   "cell_type": "code",
   "execution_count": 41,
   "metadata": {},
   "outputs": [
    {
     "data": {
      "image/png": "[encoded data removed]",
      "text/plain": [
       "<Figure size 432x288 with 1 Axes>"
      ]
     },
     "metadata": {
      "needs_background": "light"
     },
     "output_type": "display_data"
    }
   ],
   "source": [
    "plt.hist(masses[0],color='r',label='Ia',alpha = 0.5,density=True)\n",
    "plt.hist(masses[1],color='b',label='CC',alpha=0.5,density=True)\n",
    "#plt.hist(sfr[3],color='green',label='All SN',alpha = 0.3,normed=True)\n",
    "\n",
    "plt.xlabel('dex($M_\\odot$)',size='18')\n",
    "plt.legend()\n",
    "plt.title('Host Masses',size=24)\n",
    "\n",
    "\n",
    "sns.distplot(mall, hist=False, kde=True, \n",
    "             bins=int(180/5), label='All Gal',color = 'black', \n",
    "             hist_kws={'edgecolor':'black'},\n",
    "             kde_kws={'linewidth': 4})\n",
    "sns.distplot(masses[3], hist=False, kde=True, \n",
    "             bins=int(180/5), label='All SN',color = 'green', \n",
    "             hist_kws={'edgecolor':'green'},\n",
    "             kde_kws={'linewidth': 4})\n",
    "#plt.xlim(-10,3)\n",
    "#plt.show()\n",
    "plt.savefig('images/HostsMass',bbox_inches='tight')"
   ]
  },
  {
   "cell_type": "code",
   "execution_count": 42,
   "metadata": {},
   "outputs": [
    {
     "data": {
      "image/png": "[encoded data removed]",
      "text/plain": [
       "<Figure size 432x288 with 1 Axes>"
      ]
     },
     "metadata": {
      "needs_background": "light"
     },
     "output_type": "display_data"
    }
   ],
   "source": [
    "plt.hist(ages[0],color='r',label='Ia',alpha = 0.5,density=True)\n",
    "plt.hist(ages[1],color='b',label='CC',alpha=0.5,density=True)\n",
    "#plt.hist(sfr[3],color='green',label='All SN',alpha = 0.3,normed=True)\n",
    "\n",
    "plt.xlabel('Gyr',size='18')\n",
    "plt.legend()\n",
    "plt.title('Host Ages',size=24)\n",
    "\n",
    "\n",
    "sns.distplot(ageall, hist=False, kde=True, \n",
    "             bins=int(180/5), label='All Gal',color = 'black', \n",
    "             hist_kws={'edgecolor':'black'},\n",
    "             kde_kws={'linewidth': 4})\n",
    "sns.distplot(ages[3], hist=False, kde=True, \n",
    "             bins=int(180/5), label='All SN',color = 'green', \n",
    "             hist_kws={'edgecolor':'green'},\n",
    "             kde_kws={'linewidth': 4})\n",
    "#plt.xlim(-10,3)\n",
    "#plt.show()\n",
    "plt.savefig('images/HostAges',bbox_inches='tight')"
   ]
  },
  {
   "cell_type": "markdown",
   "metadata": {},
   "source": [
    "Also nice to plot parameters of the hosts as functions of redshift. Need to make sure the redshift and parameter list are same length though, that means deleting any host which has an unknown value for either.  "
   ]
  },
  {
   "cell_type": "code",
   "execution_count": 52,
   "metadata": {},
   "outputs": [
    {
     "name": "stdout",
     "output_type": "stream",
     "text": [
      "Looking for unknown data need to remove to plot vs redshift...\n",
      "Ias\n",
      "mass unknown\n",
      "12 -99.0\n",
      "age unknown\n",
      "12 -99.0\n",
      "mass unknown\n",
      "53 -99.0\n",
      "age unknown\n",
      "53 -99.0\n",
      "CCs\n",
      "Unsure on types\n",
      "mass unknown\n",
      "18 -99.0\n",
      "age unknown\n",
      "18 -99.0\n"
     ]
    }
   ],
   "source": [
    "# to plot parameters vs redshift we need to get rid of any host which has unknown values; need them same length\n",
    "# reinitialize the unfiltered data for the hosts, will filter  a little differently now\n",
    "# ie go back up to top of nb and rerun 3rd code cell; the one starting with comment 'These are the host galaxies...'\n",
    "\n",
    "print('Looking for unknown data need to remove to plot vs redshift...')\n",
    "print('Ias')\n",
    "for i in range(len(masses[0])):\n",
    "    if masses[0][i] == -99.0:\n",
    "        print('mass unknown')\n",
    "        print(i,masses[0][i])\n",
    "    if ages[0][i] == -99.0:\n",
    "        print('age unknown')\n",
    "        print(i,ages[0][i])\n",
    "    if sfr[0][i] == -99.0:\n",
    "        print('sfr unknown')\n",
    "        print(i,sfr[0][i])\n",
    "print('CCs')\n",
    "for i in range(len(masses[1])):\n",
    "    if masses[1][i] == -99.0:\n",
    "        print('mass unknown')\n",
    "        print(i,masses[1][i])\n",
    "    if ages[1][i] == -99.0:\n",
    "        print('age unknown')\n",
    "        print(i,ages[1][i])\n",
    "    if sfr[1][i] == -99.0:\n",
    "        print('sfr unknown')\n",
    "        print(i,sfr[1][i])\n",
    "print('Unsure on types')\n",
    "for i in range(len(masses[2])):\n",
    "    if masses[2][i] == -99.0:\n",
    "        print('mass unknown')\n",
    "        print(i,masses[2][i])\n",
    "    if ages[2][i] == -99.0:\n",
    "        print('age unknown')\n",
    "        print(i,ages[2][i])\n",
    "    if sfr[2][i] == -99.0:\n",
    "        print('sfr unknown')\n",
    "        print(i,sfr[2][i])\n",
    "        \n",
    "indexes0 = [12,53]\n",
    "for index in sorted(indexes0, reverse=True):\n",
    "    del masses[0][index]\n",
    "    del ages[0][index]\n",
    "    del sfr[0][index]\n",
    "    del zs[0][index]\n",
    "indexes2 = [18]\n",
    "for index in sorted(indexes2, reverse=True):\n",
    "    del masses[2][index]\n",
    "    del ages[2][index]\n",
    "    del sfr[2][index]\n",
    "    del zs[2][index]\n",
    "\n",
    "masses[-1] = masses[0] + masses[1] + masses[2]\n",
    "ages[-1] = ages[0] + ages[1] + ages[2]\n",
    "sfr[-1] = sfr[0] + sfr[1] + sfr[2]\n",
    "zs[-1] = zs[0] + zs[1] + zs[2]\n",
    "\n",
    "masses[-1] = [np.float(i) for i in masses[-1]]\n",
    "zs[-1] = [np.float(i) for i in zs[-1]]\n",
    "ages[-1] = [np.float(i) for i in ages[-1]]\n",
    "sfr[-1] = [np.float(i) for i in sfr[-1]]\n",
    "\n",
    "masses[0] = [np.float(i) for i in masses[0]]\n",
    "zs[0] = [np.float(i) for i in zs[0]]\n",
    "ages[0] = [np.float(i) for i in ages[0]]\n",
    "sfr[0] = [np.float(i) for i in sfr[0]]\n",
    "\n",
    "masses[1] = [np.float(i) for i in masses[1]]\n",
    "zs[1] = [np.float(i) for i in zs[1]]\n",
    "ages[1] = [np.float(i) for i in ages[1]]\n",
    "sfr[1] = [np.float(i) for i in sfr[1]]\n",
    "\n",
    "masses[2] = [np.float(i) for i in masses[2]]\n",
    "zs[2] = [np.float(i) for i in zs[2]]\n",
    "ages[2] = [np.float(i) for i in ages[2]]\n",
    "sfr[2] = [np.float(i) for i in sfr[2]]"
   ]
  },
  {
   "cell_type": "code",
   "execution_count": 53,
   "metadata": {},
   "outputs": [
    {
     "data": {
      "image/png": "[encoded data removed]",
      "text/plain": [
       "<Figure size 432x288 with 1 Axes>"
      ]
     },
     "metadata": {
      "needs_background": "light"
     },
     "output_type": "display_data"
    }
   ],
   "source": [
    "fig,ax = plt.subplots(1)\n",
    "\n",
    "ax.plot(zs[0],masses[0],'o',color='red',label='Ia')\n",
    "ax.plot(zs[1],masses[1],'o',color='blue',label='CC')\n",
    "ax.plot(zs[2],masses[2],'o',color='black',label='Unsure')\n",
    "ax.set_xlabel('Redshift',size=18)\n",
    "ax.set_ylabel('dex($M_\\odot$)',size=18)\n",
    "plt.legend()\n",
    "plt.title('M(z)',size=24)\n",
    "plt.savefig('MassZ')\n",
    "#ax.set_yticklabels([8,9,10])\n",
    "#ax.set_xticklabels([])"
   ]
  },
  {
   "cell_type": "code",
   "execution_count": 54,
   "metadata": {},
   "outputs": [
    {
     "data": {
      "image/png": "[encoded data removed]",
      "text/plain": [
       "<Figure size 432x288 with 1 Axes>"
      ]
     },
     "metadata": {
      "needs_background": "light"
     },
     "output_type": "display_data"
    }
   ],
   "source": [
    "# Create Figure and Axes instances\n",
    "fig,ax = plt.subplots(1)\n",
    "\n",
    "# Make your plot, set your axes labels\n",
    "ax.plot(zs[0],sfr[0],'o',color='red',label='Ia')\n",
    "ax.plot(zs[1],sfr[1],'o',color='blue',label='CC')\n",
    "ax.plot(zs[2],sfr[2],'o',color='black',label='Unsure')\n",
    "ax.set_xlabel('Redshift',size=18)\n",
    "ax.set_ylabel('dex($M_\\odot$)/yr',size=18)\n",
    "plt.legend()\n",
    "plt.title('SFR(z)',size=24)\n",
    "plt.ylim(-5,5)\n",
    "plt.savefig('SFRz')\n",
    "#ax.set_yticklabels([8,9,10])\n",
    "#ax.set_xticklabels([])"
   ]
  },
  {
   "cell_type": "code",
   "execution_count": 55,
   "metadata": {},
   "outputs": [
    {
     "data": {
      "image/png": "[encoded data removed]",
      "text/plain": [
       "<Figure size 432x288 with 1 Axes>"
      ]
     },
     "metadata": {
      "needs_background": "light"
     },
     "output_type": "display_data"
    }
   ],
   "source": [
    "# Create Figure and Axes instances\n",
    "fig,ax = plt.subplots(1)\n",
    "\n",
    "# Make your plot, set your axes labels\n",
    "ax.plot(zs[0],ages[0],'o',color='red',label='Ia')\n",
    "ax.plot(zs[1],ages[1],'o',color='blue',label='CC')\n",
    "ax.plot(zs[2],ages[2],'o',color='black',label='Unsure')\n",
    "ax.set_xlabel('Redshift',size=18)\n",
    "ax.set_ylabel('Gyr',size=18)\n",
    "plt.legend()\n",
    "#plt.axhline(y=np.nanmean(ageall), color='gold', linestyle='-',label='mean all gals')\n",
    "plt.title('Age(z)',size=24)\n",
    "plt.savefig('AgeZ')"
   ]
  },
  {
   "cell_type": "code",
   "execution_count": null,
   "metadata": {},
   "outputs": [],
   "source": []
  }
 ],
 "metadata": {
  "kernelspec": {
   "display_name": "Python 3",
   "language": "python",
   "name": "python3"
  },
  "language_info": {
   "codemirror_mode": {
    "name": "ipython",
    "version": 3
   },
   "file_extension": ".py",
   "mimetype": "text/x-python",
   "name": "python",
   "nbconvert_exporter": "python",
   "pygments_lexer": "ipython3",
   "version": "3.7.1"
  }
 },
 "nbformat": 4,
 "nbformat_minor": 2
}
