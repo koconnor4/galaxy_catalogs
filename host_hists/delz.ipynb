{
 "cells": [
  {
   "cell_type": "code",
   "execution_count": 1,
   "metadata": {},
   "outputs": [],
   "source": [
    "import os\n",
    "import copy\n",
    "import pickle\n",
    "import numpy as np\n",
    "import glob\n",
    "\n",
    "# matplotlib\n",
    "import matplotlib\n",
    "import matplotlib.pyplot as plt\n",
    "from matplotlib.patches import Ellipse\n",
    "\n",
    "# astropy\n",
    "from astropy.io import fits\n",
    "from astropy.nddata import Cutout2D\n",
    "from astropy.utils.data import download_file\n",
    "from astropy.coordinates import SkyCoord, Angle\n",
    "from astropy import wcs\n",
    "from astropy.table import Table,vstack\n",
    "import astropy.units as u\n",
    "import matplotlib.pyplot as plt \n",
    "\n",
    "\n",
    "import sys\n",
    "# so can find module one dir back; don't need to explicitly put .py into each subfolder \n",
    "sys.path.append(\"..\")\n",
    "from candels_galaxy_surveys import galaxy_catalog,galaxy_survey\n",
    "import update_galaxy_survey\n",
    "\n",
    "# so can find script for host ellipses \n",
    "sys.path.append(\"../visualize_hosts/\")\n",
    "from sn_cutout import ellipse"
   ]
  },
  {
   "cell_type": "code",
   "execution_count": 2,
   "metadata": {},
   "outputs": [
    {
     "data": {
      "text/plain": [
       "\"\\n# The goods SN don't have host matches \\n# including them so don't forget about them\\ngoods_Ias = pickle.load(open('host_data/goods_Ias.pkl','rb'))\\ngoods_CCs = pickle.load(open('host_data/goods_CCs.pkl','rb'))\\n\\n# putting these back together in single list\\ngoods = goods_Ias + goods_CCs\\n\""
      ]
     },
     "execution_count": 2,
     "metadata": {},
     "output_type": "execute_result"
    }
   ],
   "source": [
    "# these candels SNs are the ones  I have host matches for\n",
    "candels_Ias = pickle.load(open('host_data/candels_Ias.pkl','rb'))\n",
    "candels_CCs = pickle.load(open('host_data/candels_CCs.pkl','rb'))\n",
    "candels_SNs = pickle.load(open('host_data/candels_SNs.pkl','rb'))\n",
    "\n",
    "# want to look at all these SN in some value like (zHost-zSN)/(sigma_z)\n",
    "# where sigma_z is combined error  of host & SN \n",
    "# sigma_z ~ sqrt(dzSN^2 + dzHost^2)\n",
    "# if host good spectrum should I still use the l68, u68 errors based on the photo-z uncertainties?\n",
    "# same for SN?\n",
    "# at the moment I'm going to pretend those errors apply regardless of good/bad spectrums\n",
    "\n",
    "# putting them all back together into a single list\n",
    "candels = candels_Ias + candels_CCs + candels_SNs\n",
    "nearbys = []\n",
    "hosts = []\n",
    "\n",
    "\"\"\"\n",
    "# The goods SN don't have host matches \n",
    "# including them so don't forget about them\n",
    "goods_Ias = pickle.load(open('host_data/goods_Ias.pkl','rb'))\n",
    "goods_CCs = pickle.load(open('host_data/goods_CCs.pkl','rb'))\n",
    "\n",
    "# putting these back together in single list\n",
    "goods = goods_Ias + goods_CCs\n",
    "\"\"\""
   ]
  },
  {
   "cell_type": "code",
   "execution_count": 3,
   "metadata": {},
   "outputs": [],
   "source": [
    "# Making sure  the surveys  are most up to date \n",
    "\n",
    "for i in range(len(candels_Ias)):\n",
    "    nearbys.append(update_galaxy_survey.update_survey(candels_Ias[i][1]))\n",
    "for i in range(len(candels_CCs)):\n",
    "    nearbys.append(update_galaxy_survey.update_survey(candels_CCs[i][1]))\n",
    "for i in range(len(candels_SNs)):\n",
    "    nearbys.append(update_galaxy_survey.update_survey(candels_SNs[i][1]))\n",
    "\n",
    "for i in range(len(candels_Ias)):\n",
    "    hosts.append([update_galaxy_survey.update_survey(candels_Ias[i][2][0]),candels_Ias[i][2][1],candels_Ias[i][2][2]])\n",
    "for i in range(len(candels_CCs)):\n",
    "    hosts.append([update_galaxy_survey.update_survey(candels_CCs[i][2][0]),candels_CCs[i][2][1],candels_CCs[i][2][2]])\n",
    "for i in range(len(candels_SNs)):\n",
    "    hosts.append([update_galaxy_survey.update_survey(candels_SNs[i][2][0]),candels_SNs[i][2][1],candels_SNs[i][2][2]])"
   ]
  },
  {
   "cell_type": "code",
   "execution_count": 30,
   "metadata": {},
   "outputs": [],
   "source": [
    "# parameter delz to help judge which SN need to be looked at from my nearest hosts catalog\n",
    "#  delz is (znearest - zsn)/sigz ... sigz error in quad of both host and SN\n",
    "# will make evernote page for each SN organized by these delzs and say if delz > 2 will provide explanation \n",
    "\n",
    "delzs = []\n",
    "for i in range(len(candels)):\n",
    "    # the SN\n",
    "    \n",
    "    # the composite SN best redshift reported; weighted from all avail phot,spec,host info \n",
    "    zSN = np.float(candels[i][0]['zSN'])\n",
    "    dzSN = np.float(candels[i][0]['dzSN'])\n",
    "    \n",
    "    \n",
    "    # the host (nearest from my catalog)\n",
    "    \n",
    "    # good spectrum z if avail, otherwise most likely photo z if spectrum not good or n/a\n",
    "    zHost = np.float(hosts[i][0].mass[hosts[i][0].redshift_names])\n",
    "    \n",
    "    # goods-n extra z info is not in same catalog table as the other fields\n",
    "    # need this annoying if statement    \n",
    "    if hosts[i][0].source == 'Skelton14; goods-n_3dhst; https://3dhst.research.yale.edu/Data.php':\n",
    "\n",
    "        zspecHost = np.float(hosts[i][0].physpar[hosts[i][0].zspec])\n",
    "        zphotHost = np.float(hosts[i][0].physpar[hosts[i][0].zphot])\n",
    "\n",
    "        # the photometric lower and upper bounds for redshift 1sig from most likely photo z \n",
    "        zl68 = np.float(hosts[i][0].physpar[hosts[i][0].dz_l68])\n",
    "        zu68 = np.float(hosts[i][0].physpar[hosts[i][0].dz_u68])\n",
    "\n",
    "        # I am just going to say a 'dz' for the host is (u68-l68)/2 not worry about skew at the moment\n",
    "        dzHost = (zu68-zl68)/2\n",
    "\n",
    "    else:\n",
    "\n",
    "        zspecHost = np.float(hosts[i][0].mass[hosts[i][0].zspec])\n",
    "        zphotHost = np.float(hosts[i][0].mass[hosts[i][0].zphot])\n",
    "\n",
    "        # the photometric lower and upper bounds for redshift 1sig from most likely photo z \n",
    "        zl68 = np.float(hosts[i][0].mass[hosts[i][0].dz_l68])\n",
    "        zu68 = np.float(hosts[i][0].mass[hosts[i][0].dz_u68])\n",
    "\n",
    "        # I am just going to say a 'dz' for the host is (u68-l68)/2 not worry about skew at the moment\n",
    "        dzHost = (zu68-zl68)/2\n",
    "        \n",
    "    \n",
    "    \"\"\"\n",
    "    #  do I report an error on host redshift if have good spectrum?\n",
    "    # the l68, u68 are for the photo-z and may not even contain the spec z reported\n",
    "    if zspecHost == zHost: # had  a good spectrum on the host that is redshift reported\n",
    "        dzHost = 0\n",
    "    \"\"\"\n",
    "    \n",
    "    # SN - Host disagreement using best avail redshifts for each\n",
    "    dz = (zSN-zHost)\n",
    "    # the combined host and SN errors\n",
    "    sigz = np.sqrt(dzHost**2 + dzSN**2)\n",
    "    #  parameter to see quality of SN and Host redshift agreement\n",
    "    delz = dz/sigz\n",
    "    \n",
    "    delzs.append(delz)\n",
    "    \n",
    "    \n",
    "    "
   ]
  },
  {
   "cell_type": "code",
   "execution_count": 42,
   "metadata": {},
   "outputs": [
    {
     "data": {
      "text/plain": [
       "Text(0.5, 0.98, '(Nearest - SN)/sigz')"
      ]
     },
     "execution_count": 42,
     "metadata": {},
     "output_type": "execute_result"
    },
    {
     "data": {
      "image/png": "[encoded data removed]",
      "text/plain": [
       "<Figure size 432x288 with 2 Axes>"
      ]
     },
     "metadata": {
      "needs_background": "light"
     },
     "output_type": "display_data"
    }
   ],
   "source": [
    "fig, (ax0,ax1) = plt.subplots(2,1)\n",
    "\n",
    "ax0.hist(delzs,bins=15)\n",
    "ax0.set_xlabel('delz')\n",
    "\n",
    "ax1.hist(np.abs(delzs),bins=15)\n",
    "ax1.set_xlabel('|delz|')\n",
    "\n",
    "fig.suptitle('(Nearest - SN)/sigz')"
   ]
  },
  {
   "cell_type": "code",
   "execution_count": 46,
   "metadata": {},
   "outputs": [],
   "source": [
    "merged = list(zip(delzs,candels))\n",
    "\n",
    "# s = sorted(s, key = lambda x: (x[1], x[2]))"
   ]
  }
 ],
 "metadata": {
  "kernelspec": {
   "display_name": "Python 3",
   "language": "python",
   "name": "python3"
  },
  "language_info": {
   "codemirror_mode": {
    "name": "ipython",
    "version": 3
   },
   "file_extension": ".py",
   "mimetype": "text/x-python",
   "name": "python",
   "nbconvert_exporter": "python",
   "pygments_lexer": "ipython3",
   "version": "3.7.1"
  }
 },
 "nbformat": 4,
 "nbformat_minor": 2
}
