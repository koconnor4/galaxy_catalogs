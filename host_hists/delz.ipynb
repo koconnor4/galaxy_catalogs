{
 "cells": [
  {
   "cell_type": "code",
   "execution_count": 1,
   "metadata": {},
   "outputs": [],
   "source": [
    "import os\n",
    "import copy\n",
    "import pickle\n",
    "import numpy as np\n",
    "import glob\n",
    "\n",
    "# matplotlib\n",
    "import matplotlib\n",
    "import matplotlib.pyplot as plt\n",
    "from matplotlib.patches import Ellipse\n",
    "\n",
    "# astropy\n",
    "from astropy.io import fits\n",
    "from astropy.nddata import Cutout2D\n",
    "from astropy.utils.data import download_file\n",
    "from astropy.coordinates import SkyCoord, Angle\n",
    "from astropy import wcs\n",
    "from astropy.table import Table,vstack\n",
    "import astropy.units as u\n",
    "import matplotlib.pyplot as plt \n",
    "\n",
    "\n",
    "import sys\n",
    "# so can find module one dir back; don't need to explicitly put .py into each subfolder \n",
    "sys.path.append(\"..\")\n",
    "from candels_galaxy_surveys import galaxy_catalog,galaxy_survey\n",
    "import update_galaxy_survey\n",
    "\n",
    "# so can find script for host ellipses \n",
    "sys.path.append(\"../visualize_hosts/\")\n",
    "from sn_cutout import ellipse"
   ]
  },
  {
   "cell_type": "code",
   "execution_count": 2,
   "metadata": {},
   "outputs": [
    {
     "data": {
      "text/plain": [
       "\"\\n# The goods SN don't have host matches \\n# including them so don't forget about them\\ngoods_Ias = pickle.load(open('host_data/goods_Ias.pkl','rb'))\\ngoods_CCs = pickle.load(open('host_data/goods_CCs.pkl','rb'))\\n\\n# putting these back together in single list\\ngoods = goods_Ias + goods_CCs\\n\""
      ]
     },
     "execution_count": 2,
     "metadata": {},
     "output_type": "execute_result"
    }
   ],
   "source": [
    "# these candels SNs are the ones  I have host matches for\n",
    "candels_Ias = pickle.load(open('host_data/candels_Ias.pkl','rb'))\n",
    "candels_CCs = pickle.load(open('host_data/candels_CCs.pkl','rb'))\n",
    "candels_SNs = pickle.load(open('host_data/candels_SNs.pkl','rb'))\n",
    "\n",
    "# want to look at all these SN in some value like (zHost-zSN)/(sigma_z)\n",
    "# where sigma_z is combined error  of host & SN \n",
    "# sigma_z ~ sqrt(dzSN^2 + dzHost^2)\n",
    "# if host good spectrum should I still use the l68, u68 errors based on the photo-z uncertainties?\n",
    "# same for SN?\n",
    "# at the moment I'm going to pretend those errors apply regardless of good/bad spectrums\n",
    "\n",
    "# putting them all back together into a single list\n",
    "candels = candels_Ias + candels_CCs + candels_SNs\n",
    "nearbys = []\n",
    "hosts = []\n",
    "\n",
    "\"\"\"\n",
    "# The goods SN don't have host matches \n",
    "# including them so don't forget about them\n",
    "goods_Ias = pickle.load(open('host_data/goods_Ias.pkl','rb'))\n",
    "goods_CCs = pickle.load(open('host_data/goods_CCs.pkl','rb'))\n",
    "\n",
    "# putting these back together in single list\n",
    "goods = goods_Ias + goods_CCs\n",
    "\"\"\""
   ]
  },
  {
   "cell_type": "code",
   "execution_count": 3,
   "metadata": {},
   "outputs": [],
   "source": [
    "# Making sure  the surveys  are most up to date \n",
    "\n",
    "for i in range(len(candels_Ias)):\n",
    "    nearbys.append(update_galaxy_survey.update_survey(candels_Ias[i][1]))\n",
    "for i in range(len(candels_CCs)):\n",
    "    nearbys.append(update_galaxy_survey.update_survey(candels_CCs[i][1]))\n",
    "for i in range(len(candels_SNs)):\n",
    "    nearbys.append(update_galaxy_survey.update_survey(candels_SNs[i][1]))\n",
    "\n",
    "for i in range(len(candels_Ias)):\n",
    "    hosts.append([update_galaxy_survey.update_survey(candels_Ias[i][2][0]),candels_Ias[i][2][1],candels_Ias[i][2][2]])\n",
    "for i in range(len(candels_CCs)):\n",
    "    hosts.append([update_galaxy_survey.update_survey(candels_CCs[i][2][0]),candels_CCs[i][2][1],candels_CCs[i][2][2]])\n",
    "for i in range(len(candels_SNs)):\n",
    "    hosts.append([update_galaxy_survey.update_survey(candels_SNs[i][2][0]),candels_SNs[i][2][1],candels_SNs[i][2][2]])"
   ]
  },
  {
   "cell_type": "code",
   "execution_count": 4,
   "metadata": {},
   "outputs": [],
   "source": [
    "# parameter delz to help judge which SN need to be looked at from my nearest hosts catalog\n",
    "#  delz is (znearest - zsn)/sigz ... sigz error in quad of both host and SN\n",
    "# will make evernote page for each SN organized by these delzs and say if delz > 2 will provide explanation \n",
    "\n",
    "delzs = []\n",
    "for i in range(len(candels)):\n",
    "    # the SN\n",
    "    \n",
    "    # the composite SN best redshift reported; weighted from all avail phot,spec,host info \n",
    "    zSN = np.float(candels[i][0]['zSN'])\n",
    "    dzSN = np.float(candels[i][0]['dzSN'])\n",
    "    \n",
    "    \n",
    "    # the host (nearest from my catalog)\n",
    "    \n",
    "    # good spectrum z if avail, otherwise most likely photo z if spectrum not good or n/a\n",
    "    zHost = np.float(hosts[i][0].mass[hosts[i][0].redshift_names])\n",
    "    \n",
    "    # goods-n extra z info is not in same catalog table as the other fields\n",
    "    # need this annoying if statement    \n",
    "    if hosts[i][0].source == 'Skelton14; goods-n_3dhst; https://3dhst.research.yale.edu/Data.php':\n",
    "\n",
    "        zspecHost = np.float(hosts[i][0].physpar[hosts[i][0].zspec])\n",
    "        zphotHost = np.float(hosts[i][0].physpar[hosts[i][0].zphot])\n",
    "\n",
    "        # the photometric lower and upper bounds for redshift 1sig from most likely photo z \n",
    "        zl68 = np.float(hosts[i][0].physpar[hosts[i][0].dz_l68])\n",
    "        zu68 = np.float(hosts[i][0].physpar[hosts[i][0].dz_u68])\n",
    "\n",
    "        # I am just going to say a 'dz' for the host is (u68-l68)/2 not worry about skew at the moment\n",
    "        dzHost = (zu68-zl68)/2\n",
    "\n",
    "    else:\n",
    "\n",
    "        zspecHost = np.float(hosts[i][0].mass[hosts[i][0].zspec])\n",
    "        zphotHost = np.float(hosts[i][0].mass[hosts[i][0].zphot])\n",
    "\n",
    "        # the photometric lower and upper bounds for redshift 1sig from most likely photo z \n",
    "        zl68 = np.float(hosts[i][0].mass[hosts[i][0].dz_l68])\n",
    "        zu68 = np.float(hosts[i][0].mass[hosts[i][0].dz_u68])\n",
    "\n",
    "        # I am just going to say a 'dz' for the host is (u68-l68)/2 not worry about skew at the moment\n",
    "        dzHost = (zu68-zl68)/2\n",
    "        \n",
    "    \n",
    "    \"\"\"\n",
    "    #  do I report an error on host redshift if have good spectrum?\n",
    "    # the l68, u68 are for the photo-z and may not even contain the spec z reported\n",
    "    if zspecHost == zHost: # had  a good spectrum on the host that is redshift reported\n",
    "        dzHost = 0\n",
    "    \"\"\"\n",
    "    \n",
    "    # SN - Host disagreement using best avail redshifts for each\n",
    "    dz = (zSN-zHost)\n",
    "    # the combined host and SN errors\n",
    "    sigz = np.sqrt(dzHost**2 + dzSN**2)\n",
    "    #  parameter to see quality of SN and Host redshift agreement\n",
    "    delz = dz/sigz\n",
    "    \n",
    "    delzs.append(delz)\n",
    "    \n",
    "    \n",
    "    "
   ]
  },
  {
   "cell_type": "code",
   "execution_count": 5,
   "metadata": {},
   "outputs": [
    {
     "data": {
      "text/plain": [
       "Text(0.5, 0.98, '(Nearest - SN)/sigz')"
      ]
     },
     "execution_count": 5,
     "metadata": {},
     "output_type": "execute_result"
    },
    {
     "data": {
      "image/png": "[encoded data removed]",
      "text/plain": [
       "<Figure size 432x288 with 2 Axes>"
      ]
     },
     "metadata": {
      "needs_background": "light"
     },
     "output_type": "display_data"
    }
   ],
   "source": [
    "fig, (ax0,ax1) = plt.subplots(2,1)\n",
    "\n",
    "ax0.hist(delzs,bins=15)\n",
    "ax0.set_xlabel('delz')\n",
    "\n",
    "ax1.hist(np.abs(delzs),bins=15)\n",
    "ax1.set_xlabel('|delz|')\n",
    "\n",
    "fig.suptitle('(Nearest - SN)/sigz')"
   ]
  },
  {
   "cell_type": "code",
   "execution_count": 6,
   "metadata": {},
   "outputs": [
    {
     "data": {
      "text/plain": [
       "[-0.002608597030331647,\n",
       " 0.7165671503617139,\n",
       " 0.5428017577483051,\n",
       " 0.48447993991778554,\n",
       " 0.14166174794136652,\n",
       " -0.6071717502046486,\n",
       " 1.295032704978426,\n",
       " -1.4905682257068895,\n",
       " 0.2787683961148091,\n",
       " 1.7711158240373919,\n",
       " -0.44779885810340164,\n",
       " 10.940044070023767,\n",
       " -1.787360367925422,\n",
       " 0.01571268246113501,\n",
       " 4.933951021143716,\n",
       " 0.0,\n",
       " 0.0,\n",
       " 0.7058335080217003,\n",
       " -1.1269782606598981,\n",
       " -0.04934497346113049,\n",
       " 2.12845240445465,\n",
       " 0.48566473061690446,\n",
       " 0.1789374552632234,\n",
       " 0.551998037343801,\n",
       " 0.3714117277412209,\n",
       " 5.279406254256586,\n",
       " -0.5665674860208286,\n",
       " 2.9058767688033744,\n",
       " 1.1289265769249532,\n",
       " -1.0988640344631018,\n",
       " 1.407475809943065,\n",
       " 1.3659245417064485,\n",
       " -5.793050568123312,\n",
       " -24.222807748960488,\n",
       " -0.02739469005394969,\n",
       " -3.171070146583609,\n",
       " 0.5754934061746111,\n",
       " 0.04078236951430937,\n",
       " -0.17942820554785574,\n",
       " 0.0,\n",
       " -1.4513630455485975,\n",
       " -4.9834994153003,\n",
       " -0.14804664203952106,\n",
       " 0.027268220501272464,\n",
       " 0.0,\n",
       " -0.022216737285146917,\n",
       " 1.3702489294934417,\n",
       " -0.6427915552282569,\n",
       " 0.023330093267591796,\n",
       " 0.9780954078606996,\n",
       " 0.0,\n",
       " -0.5448146300082743,\n",
       " 1.908381312428907,\n",
       " 0.8198360491836058,\n",
       " 0.9192648820240462,\n",
       " -0.04371417620483569,\n",
       " -0.004999305700197912,\n",
       " 0.35998848055293,\n",
       " 0.2499652850099002,\n",
       " 1.0037918422133467,\n",
       " -0.22300980513343888,\n",
       " 2.46325511866428,\n",
       " 0.49992029967272233,\n",
       " 0.0,\n",
       " 0.06541364066018894,\n",
       " 2.137640278749308,\n",
       " 2.894464469733609,\n",
       " 0.07497657348060931,\n",
       " 0.0,\n",
       " 0.0,\n",
       " 0.649949224700153,\n",
       " 0.03453974596827864,\n",
       " 0.028881758470692676,\n",
       " 0.681629235738546,\n",
       " 0.579998840003479,\n",
       " 5.799988400034795,\n",
       " 0.13086697303782918,\n",
       " 1.7987299370918874,\n",
       " 1.2254295587359074,\n",
       " 0.6398279585277282]"
      ]
     },
     "execution_count": 6,
     "metadata": {},
     "output_type": "execute_result"
    }
   ],
   "source": [
    "delzs"
   ]
  },
  {
   "cell_type": "code",
   "execution_count": 7,
   "metadata": {},
   "outputs": [],
   "source": [
    "# connect the 'delz' parameter to the candels SN \n",
    "merged = list(zip(delzs,candels))"
   ]
  },
  {
   "cell_type": "code",
   "execution_count": 24,
   "metadata": {},
   "outputs": [],
   "source": [
    "# sorting the SN by the largest disagreements ie by the delz values\n",
    "s = sorted(merged, key = lambda x: (np.abs(x[0])))"
   ]
  },
  {
   "cell_type": "code",
   "execution_count": 30,
   "metadata": {},
   "outputs": [],
   "source": [
    "# will use this in candels folder making nb for each SN \n",
    "pickle.dump(s,open('candels/delz_candels.pkl','wb'))"
   ]
  },
  {
   "cell_type": "code",
   "execution_count": null,
   "metadata": {},
   "outputs": [],
   "source": []
  }
 ],
 "metadata": {
  "kernelspec": {
   "display_name": "Python 3",
   "language": "python",
   "name": "python3"
  },
  "language_info": {
   "codemirror_mode": {
    "name": "ipython",
    "version": 3
   },
   "file_extension": ".py",
   "mimetype": "text/x-python",
   "name": "python",
   "nbconvert_exporter": "python",
   "pygments_lexer": "ipython3",
   "version": "3.7.2"
  }
 },
 "nbformat": 4,
 "nbformat_minor": 2
}
