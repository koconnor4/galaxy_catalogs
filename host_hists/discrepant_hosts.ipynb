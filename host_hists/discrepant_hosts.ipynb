{
 "cells": [
  {
   "cell_type": "code",
   "execution_count": 1,
   "metadata": {},
   "outputs": [],
   "source": [
    "import os\n",
    "import copy\n",
    "import pickle\n",
    "import numpy as np\n",
    "import glob\n",
    "\n",
    "# matplotlib\n",
    "import matplotlib\n",
    "import matplotlib.pyplot as plt\n",
    "from matplotlib.patches import Ellipse\n",
    "\n",
    "# astropy\n",
    "from astropy.io import fits\n",
    "from astropy.nddata import Cutout2D\n",
    "from astropy.utils.data import download_file\n",
    "from astropy.coordinates import SkyCoord, Angle\n",
    "from astropy import wcs\n",
    "from astropy.table import Table,vstack\n",
    "import astropy.units as u\n",
    "import matplotlib.pyplot as plt \n",
    "\n",
    "\n",
    "import sys\n",
    "# so can find module one dir back; don't need to explicitly put .py into each subfolder \n",
    "sys.path.append(\"..\")\n",
    "from candels_galaxy_surveys import galaxy_catalog,galaxy_survey\n",
    "import update_galaxy_survey"
   ]
  },
  {
   "cell_type": "code",
   "execution_count": 31,
   "metadata": {},
   "outputs": [],
   "source": [
    "discrepants = pickle.load(open('host_data/discrepant_host.pkl','rb'))\n",
    "# list where each corresponds to discrepant case and is another list like [catalog,[zsn,zhost,sn - host]]"
   ]
  },
  {
   "cell_type": "code",
   "execution_count": 28,
   "metadata": {},
   "outputs": [],
   "source": [
    "nearbys = []\n",
    "for i in range(len(discrepants)):\n",
    "    nearbys.append(discrepants[i][0][1])\n",
    "\n",
    "hosts = []\n",
    "for i in range(len(discrepants)):\n",
    "    hosts.append(discrepants[i][0][2])"
   ]
  },
  {
   "cell_type": "code",
   "execution_count": 77,
   "metadata": {},
   "outputs": [],
   "source": [
    "def case_study(i):\n",
    "    print('Case {}'.format(i),end='\\n'*2)\n",
    "    print('zSN = {}, zHost = {}, (sn - host) = {}'.format(discrepants[i][1][0],discrepants[i][1][1],discrepants[i][1][2]),end='\\n'*2)\n",
    "    print('*'*80)\n",
    "    print('Nearest',end='\\n'*2)\n",
    "    print(hosts[i][0].mass,'\\n')\n",
    "    print(hosts[i][0].mass[hosts[i][0].redshift_names],end='\\n'*2)\n",
    "    print('Elliptical Radii Away',end='\\n'*2)\n",
    "    print(hosts[i][1],end='\\n'*2)\n",
    "\n",
    "    print('*'*80)\n",
    "    print('Nearby',end='\\n'*2)\n",
    "    print(nearbys[i].mass)\n",
    "    print('\\n')\n",
    "    print(nearbys[i].mass[nearbys[i].redshift_names],end='\\n'*2)\n",
    "    print('Elliptical Radii Away')\n",
    "    for i in hosts[i][2]:\n",
    "        print(i)\n",
    "    print('\\n')\n"
   ]
  },
  {
   "cell_type": "code",
   "execution_count": 80,
   "metadata": {},
   "outputs": [
    {
     "name": "stdout",
     "output_type": "stream",
     "text": [
      "Case 0\n",
      "\n",
      "zSN = 2.238, zHost = 2.1, (sn - host) = 0.1379999999999999\n",
      "\n",
      "********************************************************************************\n",
      "Nearest\n",
      "\n",
      "  id    z    ltau metal lage  Av  lmass lsfr lssfr la2t   chi2  \n",
      "----- ------ ---- ----- ---- ---- ----- ---- ----- ---- --------\n",
      "32933 2.1000 8.20 0.020 8.80 1.10 10.56 0.83 -9.73 0.60 7.75e-01 \n",
      "\n",
      "2.1000\n",
      "\n",
      "Elliptical Radii Away\n",
      "\n",
      "1.0640138162012542\n",
      "\n",
      "********************************************************************************\n",
      "Nearby\n",
      "\n",
      "  id    z    ltau metal lage  Av  lmass  lsfr lssfr  la2t   chi2  \n",
      "----- ------ ---- ----- ---- ---- ----- ----- ------ ---- --------\n",
      "32616 0.9500 8.20 0.020 8.60 1.20 10.19  1.10  -9.09 0.40 1.32e+01\n",
      "32933 2.1000 8.20 0.020 8.80 1.10 10.56  0.83  -9.73 0.60 7.75e-01\n",
      "33037 1.6100 8.80 0.020 9.40 0.70  9.52 -0.76 -10.28 0.60 4.30e-01\n",
      "33141 0.7700 8.20 0.020 8.80 0.60  8.33 -1.40  -9.73 0.60 5.68e-01\n",
      "\n",
      "\n",
      "  z   \n",
      "------\n",
      "0.9500\n",
      "2.1000\n",
      "1.6100\n",
      "0.7700\n",
      "\n",
      "Elliptical Radii Away\n",
      "4.25448603446999\n",
      "1.0640138162012542\n",
      "11.937908209364162\n",
      "24.814100375891663\n",
      "\n",
      "\n"
     ]
    }
   ],
   "source": [
    "case_study(0)"
   ]
  },
  {
   "cell_type": "markdown",
   "metadata": {},
   "source": [
    "This first case the nearest is the smallest dz and the percent difference isnt so bad.\n",
    "\n",
    "I am guessing the discrepancy is just due to uncertainties in the redshift measurements between the two. No redshift reevaluation necessary"
   ]
  },
  {
   "cell_type": "code",
   "execution_count": 81,
   "metadata": {},
   "outputs": [
    {
     "name": "stdout",
     "output_type": "stream",
     "text": [
      "Case 1\n",
      "\n",
      "zSN = 1.14, zHost = 1.26, (sn - host) = -0.1200000000000001\n",
      "\n",
      "********************************************************************************\n",
      "Nearest\n",
      "\n",
      "  id    z    ltau metal lage  Av  lmass lsfr lssfr  la2t   chi2  \n",
      "----- ------ ---- ----- ---- ---- ----- ---- ------ ---- --------\n",
      "32162 1.2600 8.60 0.020 9.30 0.90 11.05 0.51 -10.54 0.70 9.49e+00 \n",
      "\n",
      "1.2600\n",
      "\n",
      "Elliptical Radii Away\n",
      "\n",
      "1.9300989340443198\n",
      "\n",
      "********************************************************************************\n",
      "Nearby\n",
      "\n",
      "  id    z     ltau metal lage  Av  lmass  lsfr lssfr   la2t   chi2  \n",
      "----- ------ ----- ----- ---- ---- ----- ----- ------ ----- --------\n",
      "32162 1.2600  8.60 0.020 9.30 0.90 11.05  0.51 -10.54  0.70 9.49e+00\n",
      "32661 2.6600  9.00 0.020 7.60 1.40  8.63  1.10  -7.54 -1.40 8.29e-01\n",
      "32696 0.6000 10.00 0.020 9.70 0.00  8.16 -1.41  -9.57 -0.30 1.84e+00\n",
      "32704 1.6500  7.00 0.020 7.90 0.00  7.83 -2.47 -10.30  0.90 2.10e+00\n",
      "\n",
      "\n",
      "  z   \n",
      "------\n",
      "1.2600\n",
      "2.6600\n",
      "0.6000\n",
      "1.6500\n",
      "\n",
      "Elliptical Radii Away\n",
      "1.9300989340443198\n",
      "20.037716219146585\n",
      "15.293739974551558\n",
      "26.777838225688388\n",
      "\n",
      "\n"
     ]
    }
   ],
   "source": [
    "case_study(1)"
   ]
  },
  {
   "cell_type": "markdown",
   "metadata": {},
   "source": [
    "Second case similar to first; again the nearest is the smallest dz and the percent difference isnt so bad.\n",
    "\n",
    "The discrepancy is just due to uncertainties in the redshift measurements between the two. No redshift reevaluation necessary"
   ]
  },
  {
   "cell_type": "code",
   "execution_count": 82,
   "metadata": {},
   "outputs": [
    {
     "name": "stdout",
     "output_type": "stream",
     "text": [
      "Case 2\n",
      "\n",
      "zSN = 1.067, zHost = 0.57, (sn - host) = 0.497\n",
      "\n",
      "********************************************************************************\n",
      "Nearest\n",
      "\n",
      " id    z    ltau metal lage  Av  lmass  lsfr lssfr  la2t   chi2  \n",
      "---- ------ ---- ----- ---- ---- ----- ----- ------ ---- --------\n",
      "8985 0.5700 9.40 0.020 9.90 0.00  8.36 -2.12 -10.48 0.50 8.51e-01 \n",
      "\n",
      "0.5700\n",
      "\n",
      "Elliptical Radii Away\n",
      "\n",
      "0.7686646519304848\n",
      "\n",
      "********************************************************************************\n",
      "Nearby\n",
      "\n",
      " id    z     ltau metal lage  Av  lmass  lsfr lssfr   la2t   chi2  \n",
      "---- ------ ----- ----- ---- ---- ----- ----- ------ ----- --------\n",
      "8889 0.8300  9.40 0.020 9.20 0.00  8.16 -0.99  -9.14 -0.20 9.49e-01\n",
      "8897 0.9400  9.20 0.020 9.40 0.10  8.29 -1.27  -9.56  0.20 6.27e-01\n",
      "8958 0.6800  7.60 0.020 8.20 0.10  7.27 -1.90  -9.17  0.60 1.30e+00\n",
      "8961 1.1300  9.60 0.020 8.80 0.00  7.42 -1.25  -8.67 -0.80 9.15e-01\n",
      "8963 1.6600  9.00 0.020 9.10 0.00  8.40 -0.80  -9.20  0.10 8.26e-01\n",
      "8985 0.5700  9.40 0.020 9.90 0.00  8.36 -2.12 -10.48  0.50 8.51e-01\n",
      "9051 0.6500  7.00 0.020 7.90 0.30  8.18 -2.12 -10.30  0.90 3.01e+00\n",
      "9105 2.1800  8.20 0.020 8.60 0.10  9.68  0.60  -9.09  0.40 1.62e+00\n",
      "9109 2.3600 10.00 0.020 7.60 1.40  8.29  0.76  -7.53 -2.40 4.68e-01\n",
      "9140 1.3900  8.20 0.020 8.50 0.40  8.32 -0.53  -8.84  0.30 1.27e+00\n",
      "\n",
      "\n",
      "  z   \n",
      "------\n",
      "0.8300\n",
      "0.9400\n",
      "0.6800\n",
      "1.1300\n",
      "1.6600\n",
      "0.5700\n",
      "0.6500\n",
      "2.1800\n",
      "2.3600\n",
      "1.3900\n",
      "\n",
      "Elliptical Radii Away\n",
      "9.171497111050662\n",
      "32.56616771491558\n",
      "44.9089881738013\n",
      "34.79475728039528\n",
      "5.888675101018685\n",
      "0.7686646519304848\n",
      "22.43137076096961\n",
      "19.709679221366677\n",
      "28.967987661018277\n",
      "40.39951334399987\n",
      "\n",
      "\n"
     ]
    }
   ],
   "source": [
    "case_study(2)"
   ]
  },
  {
   "cell_type": "markdown",
   "metadata": {},
   "source": [
    "This case needs either an update on the host or sn redshift. The disagreement is too large to be due to uncertainties. \n",
    "\n",
    "The best host in terms of redshift would be id8961 at z~1.13 it is 34.8 ell radii away however while there are other options orders of magnidue nearer. Next move to view this image at sn loc and identify which host is which with ell shown. "
   ]
  },
  {
   "cell_type": "code",
   "execution_count": 84,
   "metadata": {},
   "outputs": [
    {
     "name": "stdout",
     "output_type": "stream",
     "text": [
      "Case 3\n",
      "\n",
      "zSN = 1.833, zHost = 0.56, (sn - host) = 1.273\n",
      "\n",
      "********************************************************************************\n",
      "Nearest\n",
      "\n",
      "  id    z    ltau metal lage  Av  lmass lsfr lssfr  la2t   chi2  \n",
      "----- ------ ---- ----- ---- ---- ----- ---- ------ ---- --------\n",
      "27567 0.5600 9.60 0.020 9.90 4.00 10.57 0.43 -10.14 0.30 1.32e+01 \n",
      "\n",
      "0.5600\n",
      "\n",
      "Elliptical Radii Away\n",
      "\n",
      "4.475319918325295\n",
      "\n",
      "********************************************************************************\n",
      "Nearby\n",
      "\n",
      "  id    z    ltau metal lage  Av  lmass  lsfr lssfr  la2t   chi2  \n",
      "----- ------ ---- ----- ---- ---- ----- ----- ------ ---- --------\n",
      "27444 1.0700 9.00 0.020 9.60 0.60 10.45 -0.02 -10.47 0.60 1.50e+00\n",
      "27482 0.5600 8.80 0.020 8.80 0.90  9.48  0.62  -8.86 0.00 1.15e+00\n",
      "27567 0.5600 9.60 0.020 9.90 4.00 10.57  0.43 -10.14 0.30 1.32e+01\n",
      "27692 1.2600 7.00 0.020 7.90 0.60  8.11 -2.20 -10.30 0.90 1.99e+00\n",
      "27718 1.2500 7.20 0.020 8.00 0.00  7.85 -1.94  -9.79 0.80 5.12e+00\n",
      "27826 0.9300 8.40 0.020 8.70 0.00  7.86 -1.17  -9.03 0.30 9.68e-01\n",
      "27833 1.6800 7.40 0.020 8.30 0.00  8.81 -1.86 -10.67 0.90 7.73e+00\n",
      "\n",
      "\n",
      "  z   \n",
      "------\n",
      "1.0700\n",
      "0.5600\n",
      "0.5600\n",
      "1.2600\n",
      "1.2500\n",
      "0.9300\n",
      "1.6800\n",
      "\n",
      "Elliptical Radii Away\n",
      "4.989760895696029\n",
      "5.759624198312598\n",
      "4.475319918325295\n",
      "30.075381006856\n",
      "15.461700396983003\n",
      "45.084628147026734\n",
      "16.563509042148336\n",
      "\n",
      "\n"
     ]
    }
   ],
   "source": [
    "case_study(3)"
   ]
  },
  {
   "cell_type": "markdown",
   "metadata": {},
   "source": [
    "This case another which needs either an update on the host or sn redshift. The disagreement is too large to be due to uncertainties.\n",
    "\n",
    "The best host in terms of redshift would be id27833 at z~1.68 it is 16.6 ell radii away however while there are other options 3~4x closer. Next move to view image around sn location and identify which host is which with the ellipses shown."
   ]
  },
  {
   "cell_type": "code",
   "execution_count": 85,
   "metadata": {},
   "outputs": [
    {
     "name": "stdout",
     "output_type": "stream",
     "text": [
      "Case 5\n",
      "\n",
      "zSN = 1.33, zHost = 0.851, (sn - host) = 0.4790000000000001\n",
      "\n",
      "********************************************************************************\n",
      "Nearest\n",
      "\n",
      " Seq     RAdeg       DECdeg    Hmag H_SNR PhotFlag StarFlag Class_star AGNFlag zbest zspec q_zspec r_zspec zphot zphot_l68 zphot_u68 zphot_l95 zphot_u95  zAGN    M_med      s_med     M_neb_med  s_neb_med  delta_Mz M_2a_tau M_2d_tau M_6a_tau M_10c M_11a_tau M_12a M_13a_tau M_14a M_15a M_6a_tau^NEB M_6a_deltau M_6a_invtau M_10c^dust M_12a_tau M_14a_const M_14a_lin M_14a_deltau M_14a_tau\n",
      "------ ---------- ----------- ----- ----- -------- -------- ---------- ------- ----- ----- ------- ------- ----- --------- --------- --------- --------- ----- ----------- ---------- ----------- ---------- -------- -------- -------- -------- ----- --------- ----- --------- ----- ----- ------------ ----------- ----------- ---------- --------- ----------- --------- ------------ ---------\n",
      "8859.0 53.0869217 -27.8281918 25.25 24.95      0.0      0.0       0.09     0.0 0.851 -99.0   -99.0   -99.0 0.851      0.76      0.95      0.69      1.04 -99.0 230000000.0 20400000.0 245000000.0 35700000.0    0.405     8.38     7.36     8.34  8.23      8.35  8.38      8.43  8.32  8.33         8.45        8.35         8.4       8.23      8.35        8.32      8.28         8.32      8.33 \n",
      "\n",
      "0.851\n",
      "\n",
      "Elliptical Radii Away\n",
      "\n",
      "0.3701726003539855\n",
      "\n",
      "********************************************************************************\n",
      "Nearby\n",
      "\n",
      "  Seq     RAdeg       DECdeg    Hmag ... M_14a_lin M_14a_deltau M_14a_tau\n",
      "------- ---------- ----------- ----- ... --------- ------------ ---------\n",
      " 8859.0 53.0869217 -27.8281918 25.25 ...      8.28         8.32      8.33\n",
      " 8866.0 53.0866241 -27.8281403 25.67 ...      8.56         8.55      8.52\n",
      " 8891.0 53.0869637 -27.8278751 25.26 ...      7.93         7.88      7.86\n",
      "29707.0 53.0860062 -27.8274479 27.16 ...      8.08         8.11      8.19\n",
      "\n",
      "\n",
      "zbest\n",
      "-----\n",
      "0.851\n",
      " 1.35\n",
      "0.596\n",
      "2.158\n",
      "\n",
      "Elliptical Radii Away\n",
      "0.3701726003539855\n",
      "6.165175960273379\n",
      "6.334241576639257\n",
      "45.46178289443911\n",
      "\n",
      "\n"
     ]
    }
   ],
   "source": [
    "case_study(5)"
   ]
  },
  {
   "cell_type": "markdown",
   "metadata": {},
   "source": [
    "This case the second to nearest redshift is in very good agreement with snz, 1.35 and 1.33. \n",
    "\n",
    "I'd guess this is the actual host which we can update the catalog to reflect and leave redshifts unchanged. \n",
    "\n",
    "However should probably show the image around sn loc and host ell identified to see why there is an object so much nearer."
   ]
  },
  {
   "cell_type": "code",
   "execution_count": null,
   "metadata": {},
   "outputs": [],
   "source": []
  }
 ],
 "metadata": {
  "kernelspec": {
   "display_name": "Python 3",
   "language": "python",
   "name": "python3"
  },
  "language_info": {
   "codemirror_mode": {
    "name": "ipython",
    "version": 3
   },
   "file_extension": ".py",
   "mimetype": "text/x-python",
   "name": "python",
   "nbconvert_exporter": "python",
   "pygments_lexer": "ipython3",
   "version": "3.7.2"
  }
 },
 "nbformat": 4,
 "nbformat_minor": 2
}
