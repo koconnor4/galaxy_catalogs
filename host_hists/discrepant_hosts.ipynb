{
 "cells": [
  {
   "cell_type": "code",
   "execution_count": 1,
   "metadata": {},
   "outputs": [],
   "source": [
    "import os\n",
    "import copy\n",
    "import pickle\n",
    "import numpy as np\n",
    "import glob\n",
    "\n",
    "# matplotlib\n",
    "import matplotlib\n",
    "import matplotlib.pyplot as plt\n",
    "from matplotlib.patches import Ellipse\n",
    "\n",
    "# astropy\n",
    "from astropy.io import fits\n",
    "from astropy.nddata import Cutout2D\n",
    "from astropy.utils.data import download_file\n",
    "from astropy.coordinates import SkyCoord, Angle\n",
    "from astropy import wcs\n",
    "from astropy.table import Table,vstack\n",
    "import astropy.units as u\n",
    "import matplotlib.pyplot as plt \n",
    "\n",
    "\n",
    "import sys\n",
    "# so can find module one dir back; don't need to explicitly put .py into each subfolder \n",
    "sys.path.append(\"..\")\n",
    "from candels_galaxy_surveys import galaxy_catalog,galaxy_survey\n",
    "import update_galaxy_survey\n",
    "\n",
    "# so can find script for host ellipses \n",
    "sys.path.append(\"../visualize_hosts/\")\n",
    "from sn_cutout import ellipse"
   ]
  },
  {
   "cell_type": "code",
   "execution_count": 2,
   "metadata": {},
   "outputs": [],
   "source": [
    "discrepants = pickle.load(open('host_data/discrepant_host.pkl','rb'))\n",
    "# list where each corresponds to discrepant case and is another list like [catalog,[zsn,zhost,sn - host]]"
   ]
  },
  {
   "cell_type": "code",
   "execution_count": 3,
   "metadata": {},
   "outputs": [],
   "source": [
    "nearbys = []\n",
    "for i in range(len(discrepants)):\n",
    "    nearbys.append(discrepants[i][0][1])\n",
    "\n",
    "hosts = []\n",
    "for i in range(len(discrepants)):\n",
    "    hosts.append(discrepants[i][0][2])"
   ]
  },
  {
   "cell_type": "code",
   "execution_count": 12,
   "metadata": {},
   "outputs": [
    {
     "data": {
      "text/html": [
       "<i>Row index=6</i>\n",
       "<table id=\"table4472219632\">\n",
       "<thead><tr><th>name</th><th>nickname</th><th>col2</th><th>decliner</th><th>REPROC</th><th>RA</th><th>DEC</th><th>Host RA</th><th>Host DEC</th><th>zSN</th><th>dzSN</th><th>zHost</th><th>dzHost</th><th>Host Morphology</th><th>Host SED Type</th><th>PIaz</th><th>dPIaz</th><th>PIaHost</th><th>dPIaHost</th><th>galsnidShift</th><th>zSNold</th><th>dzSNold</th><th>zSN Source</th><th>zHost Source</th></tr></thead>\n",
       "<thead><tr><th>str9</th><th>str12</th><th>str1</th><th>str1</th><th>str1</th><th>str12</th><th>str13</th><th>str12</th><th>str13</th><th>str5</th><th>str6</th><th>str8</th><th>str7</th><th>str7</th><th>str7</th><th>str4</th><th>str11</th><th>str4</th><th>str11</th><th>str5</th><th>str6</th><th>str6</th><th>str23</th><th>str47</th></tr></thead>\n",
       "<tr><td>GND12Col</td><td>Colfax</td><td>A</td><td>0</td><td>y</td><td>12:36:37.569</td><td>+62:18:32.93</td><td>12:36:37.514</td><td>+62:18:32.66</td><td>2.238</td><td>0.043</td><td>2.1</td><td>0.2</td><td>s</td><td>A</td><td>1.00</td><td>+0.00 -0.01</td><td>1.00</td><td>+0.00 -0.00</td><td>0.00</td><td>2.15</td><td>0.1</td><td>host+SN phot-z</td><td>phot-z (T.Dahlen)</td></tr>\n",
       "</table>"
      ],
      "text/plain": [
       "<Row index=6>\n",
       "  name   nickname col2 decliner REPROC      RA          DEC        Host RA      Host DEC    zSN   dzSN zHost dzHost Host Morphology Host SED Type PIaz    dPIaz    PIaHost   dPIaHost  galsnidShift zSNold dzSNold   zSN Source      zHost Source  \n",
       "  str9    str12   str1   str1    str1     str12        str13        str12        str13      str5  str6  str8  str7        str7           str7     str4    str11      str4     str11        str5      str6    str6      str23            str47      \n",
       "-------- -------- ---- -------- ------ ------------ ------------ ------------ ------------ ----- ----- ----- ------ --------------- ------------- ---- ----------- ------- ----------- ------------ ------ ------- -------------- -----------------\n",
       "GND12Col   Colfax    A        0      y 12:36:37.569 +62:18:32.93 12:36:37.514 +62:18:32.66 2.238 0.043   2.1    0.2               s             A 1.00 +0.00 -0.01    1.00 +0.00 -0.00         0.00   2.15     0.1 host+SN phot-z phot-z (T.Dahlen)"
      ]
     },
     "execution_count": 12,
     "metadata": {},
     "output_type": "execute_result"
    }
   ],
   "source": [
    "discrepants[0][0][0]"
   ]
  },
  {
   "cell_type": "code",
   "execution_count": 15,
   "metadata": {},
   "outputs": [],
   "source": [
    "def case_study(i):\n",
    "    print('Case {}: '.format(i)+discrepants[i][0][0]['name'],end='\\n'*2)\n",
    "    print('zSN = {}, zHost = {}, (sn - host) = {}'.format(discrepants[i][1][0],discrepants[i][1][1],discrepants[i][1][2]),end='\\n'*2)\n",
    "    print('*'*80)\n",
    "    print('Nearest',end='\\n'*2)\n",
    "    print(hosts[i][0].mass,'\\n')\n",
    "    print(hosts[i][0].mass[hosts[i][0].redshift_names],end='\\n'*2)\n",
    "    print('Elliptical Radii Away',end='\\n'*2)\n",
    "    print(hosts[i][1],end='\\n'*2)\n",
    "\n",
    "    print('*'*80)\n",
    "    print('Nearby',end='\\n'*2)\n",
    "    print(nearbys[i].mass)\n",
    "    print('\\n')\n",
    "    print(nearbys[i].mass[nearbys[i].redshift_names],end='\\n'*2)\n",
    "    print('Elliptical Radii Away')\n",
    "    for i in hosts[i][2]:\n",
    "        print(i)\n",
    "    print('\\n')\n"
   ]
  },
  {
   "cell_type": "code",
   "execution_count": 16,
   "metadata": {},
   "outputs": [
    {
     "name": "stdout",
     "output_type": "stream",
     "text": [
      "Case 0: GND12Col\n",
      "\n",
      "zSN = 2.238, zHost = 2.1, (sn - host) = 0.1379999999999999\n",
      "\n",
      "********************************************************************************\n",
      "Nearest\n",
      "\n",
      "  id    z    ltau metal lage  Av  lmass lsfr lssfr la2t   chi2  \n",
      "----- ------ ---- ----- ---- ---- ----- ---- ----- ---- --------\n",
      "32933 2.1000 8.20 0.020 8.80 1.10 10.56 0.83 -9.73 0.60 7.75e-01 \n",
      "\n",
      "2.1000\n",
      "\n",
      "Elliptical Radii Away\n",
      "\n",
      "1.0640138162012542\n",
      "\n",
      "********************************************************************************\n",
      "Nearby\n",
      "\n",
      "  id    z    ltau metal lage  Av  lmass  lsfr lssfr  la2t   chi2  \n",
      "----- ------ ---- ----- ---- ---- ----- ----- ------ ---- --------\n",
      "32616 0.9500 8.20 0.020 8.60 1.20 10.19  1.10  -9.09 0.40 1.32e+01\n",
      "32933 2.1000 8.20 0.020 8.80 1.10 10.56  0.83  -9.73 0.60 7.75e-01\n",
      "33037 1.6100 8.80 0.020 9.40 0.70  9.52 -0.76 -10.28 0.60 4.30e-01\n",
      "33141 0.7700 8.20 0.020 8.80 0.60  8.33 -1.40  -9.73 0.60 5.68e-01\n",
      "\n",
      "\n",
      "  z   \n",
      "------\n",
      "0.9500\n",
      "2.1000\n",
      "1.6100\n",
      "0.7700\n",
      "\n",
      "Elliptical Radii Away\n",
      "4.25448603446999\n",
      "1.0640138162012542\n",
      "11.937908209364162\n",
      "24.814100375891663\n",
      "\n",
      "\n"
     ]
    }
   ],
   "source": [
    "case_study(0)"
   ]
  },
  {
   "cell_type": "markdown",
   "metadata": {},
   "source": [
    "# This first case the nearest is the smallest dz and the percent difference isnt so bad.\n",
    "\n",
    "# I am guessing the discrepancy is just due to uncertainties in the redshift measurements between the two. No redshift reevaluation necessary"
   ]
  },
  {
   "cell_type": "code",
   "execution_count": 17,
   "metadata": {},
   "outputs": [
    {
     "name": "stdout",
     "output_type": "stream",
     "text": [
      "Case 1: GND12Tom\n",
      "\n",
      "zSN = 1.14, zHost = 1.26, (sn - host) = -0.1200000000000001\n",
      "\n",
      "********************************************************************************\n",
      "Nearest\n",
      "\n",
      "  id    z    ltau metal lage  Av  lmass lsfr lssfr  la2t   chi2  \n",
      "----- ------ ---- ----- ---- ---- ----- ---- ------ ---- --------\n",
      "32162 1.2600 8.60 0.020 9.30 0.90 11.05 0.51 -10.54 0.70 9.49e+00 \n",
      "\n",
      "1.2600\n",
      "\n",
      "Elliptical Radii Away\n",
      "\n",
      "1.9300989340443198\n",
      "\n",
      "********************************************************************************\n",
      "Nearby\n",
      "\n",
      "  id    z     ltau metal lage  Av  lmass  lsfr lssfr   la2t   chi2  \n",
      "----- ------ ----- ----- ---- ---- ----- ----- ------ ----- --------\n",
      "32162 1.2600  8.60 0.020 9.30 0.90 11.05  0.51 -10.54  0.70 9.49e+00\n",
      "32661 2.6600  9.00 0.020 7.60 1.40  8.63  1.10  -7.54 -1.40 8.29e-01\n",
      "32696 0.6000 10.00 0.020 9.70 0.00  8.16 -1.41  -9.57 -0.30 1.84e+00\n",
      "32704 1.6500  7.00 0.020 7.90 0.00  7.83 -2.47 -10.30  0.90 2.10e+00\n",
      "\n",
      "\n",
      "  z   \n",
      "------\n",
      "1.2600\n",
      "2.6600\n",
      "0.6000\n",
      "1.6500\n",
      "\n",
      "Elliptical Radii Away\n",
      "1.9300989340443198\n",
      "20.037716219146585\n",
      "15.293739974551558\n",
      "26.777838225688388\n",
      "\n",
      "\n"
     ]
    }
   ],
   "source": [
    "case_study(1)"
   ]
  },
  {
   "cell_type": "markdown",
   "metadata": {},
   "source": [
    "# Second case similar to first; again the nearest is the smallest dz and the percent difference isnt so bad.\n",
    "\n",
    "# The discrepancy is just due to uncertainties in the redshift measurements between the two. No redshift reevaluation necessary"
   ]
  },
  {
   "cell_type": "code",
   "execution_count": 18,
   "metadata": {},
   "outputs": [
    {
     "name": "stdout",
     "output_type": "stream",
     "text": [
      "Case 2: GND13Gar\n",
      "\n",
      "zSN = 1.067, zHost = 0.57, (sn - host) = 0.497\n",
      "\n",
      "********************************************************************************\n",
      "Nearest\n",
      "\n",
      " id    z    ltau metal lage  Av  lmass  lsfr lssfr  la2t   chi2  \n",
      "---- ------ ---- ----- ---- ---- ----- ----- ------ ---- --------\n",
      "8985 0.5700 9.40 0.020 9.90 0.00  8.36 -2.12 -10.48 0.50 8.51e-01 \n",
      "\n",
      "0.5700\n",
      "\n",
      "Elliptical Radii Away\n",
      "\n",
      "0.7686646519304848\n",
      "\n",
      "********************************************************************************\n",
      "Nearby\n",
      "\n",
      " id    z     ltau metal lage  Av  lmass  lsfr lssfr   la2t   chi2  \n",
      "---- ------ ----- ----- ---- ---- ----- ----- ------ ----- --------\n",
      "8889 0.8300  9.40 0.020 9.20 0.00  8.16 -0.99  -9.14 -0.20 9.49e-01\n",
      "8897 0.9400  9.20 0.020 9.40 0.10  8.29 -1.27  -9.56  0.20 6.27e-01\n",
      "8958 0.6800  7.60 0.020 8.20 0.10  7.27 -1.90  -9.17  0.60 1.30e+00\n",
      "8961 1.1300  9.60 0.020 8.80 0.00  7.42 -1.25  -8.67 -0.80 9.15e-01\n",
      "8963 1.6600  9.00 0.020 9.10 0.00  8.40 -0.80  -9.20  0.10 8.26e-01\n",
      "8985 0.5700  9.40 0.020 9.90 0.00  8.36 -2.12 -10.48  0.50 8.51e-01\n",
      "9051 0.6500  7.00 0.020 7.90 0.30  8.18 -2.12 -10.30  0.90 3.01e+00\n",
      "9105 2.1800  8.20 0.020 8.60 0.10  9.68  0.60  -9.09  0.40 1.62e+00\n",
      "9109 2.3600 10.00 0.020 7.60 1.40  8.29  0.76  -7.53 -2.40 4.68e-01\n",
      "9140 1.3900  8.20 0.020 8.50 0.40  8.32 -0.53  -8.84  0.30 1.27e+00\n",
      "\n",
      "\n",
      "  z   \n",
      "------\n",
      "0.8300\n",
      "0.9400\n",
      "0.6800\n",
      "1.1300\n",
      "1.6600\n",
      "0.5700\n",
      "0.6500\n",
      "2.1800\n",
      "2.3600\n",
      "1.3900\n",
      "\n",
      "Elliptical Radii Away\n",
      "9.171497111050662\n",
      "32.56616771491558\n",
      "44.9089881738013\n",
      "34.79475728039528\n",
      "5.888675101018685\n",
      "0.7686646519304848\n",
      "22.43137076096961\n",
      "19.709679221366677\n",
      "28.967987661018277\n",
      "40.39951334399987\n",
      "\n",
      "\n"
     ]
    }
   ],
   "source": [
    "case_study(2)"
   ]
  },
  {
   "cell_type": "markdown",
   "metadata": {},
   "source": [
    "# This case needs either an update on the host or sn redshift. The disagreement is too large to be due to uncertainties. \n",
    "\n",
    "# The best host in terms of redshift would be id8961 at z~1.13 it is 34.8 ell radii away however while there are other options orders of magnidue nearer. Next move to view this image at sn loc and identify which host is which with ell shown. "
   ]
  },
  {
   "cell_type": "code",
   "execution_count": 38,
   "metadata": {},
   "outputs": [
    {
     "data": {
      "image/png": "[encoded data removed]",
      "text/plain": [
       "<Figure size 432x288 with 1 Axes>"
      ]
     },
     "metadata": {
      "needs_background": "light"
     },
     "output_type": "display_data"
    }
   ],
   "source": [
    "#for i in range(len(candels_Ias)):\n",
    "# i for case study; don't need to loop\n",
    "# Case study 2\n",
    "# the SN nickname\n",
    "i = 2\n",
    "nick = discrepants[i][0][0]['name'] \n",
    "# the SN skycoord location\n",
    "sn_loc = SkyCoord(discrepants[i][0][0]['RA'],discrepants[i][0][0]['DEC'],unit = (u.hourangle,u.deg))\n",
    "\n",
    "# the nearby to the SN\n",
    "nearby = discrepants[i][0][1] \n",
    "# the host to the SN\n",
    "host = discrepants[i][0][2]\n",
    "\n",
    "# updating the surveys\n",
    "update_near = update_galaxy_survey.update_survey(nearby)\n",
    "update_host = update_galaxy_survey.update_survey(host[0])\n",
    "\n",
    "# renaming for clarity\n",
    "nearby = update_near\n",
    "host = [update_host,host[1],host[2]]\n",
    "\n",
    "# getting list of the ids, elliptical parameters for each nearby for this SN\n",
    "ids = [i for i in nearby.mass[nearby.ids]]\n",
    "nearby_coords = [i for i in nearby.gal_skycoords()]\n",
    "a_ellipse = [np.float(i) for i in nearby.photom[nearby.a_ellip]]\n",
    "b_ellipse = [np.float(i) for i in nearby.photom[nearby.b_ellip]]\n",
    "theta_ellipse = [np.float(i) for i in nearby.photom[nearby.theta_ellip]]\n",
    "\n",
    "\n",
    "# 5 element list, each element another x element list for a given SN with the x candidate parameters.\n",
    "possible_hosts = [nearby_coords, a_ellipse, b_ellipse, theta_ellipse,ids]\n",
    "\n",
    "# the ellipse 2nd argument wants a list with the x candidate parameters all together \n",
    "# ie not [[all coords], [all a], [all b], [all theta]] rather [[coords,a,b,theta],...]\n",
    "possible_hosts = list(zip(possible_hosts[0],possible_hosts[1],possible_hosts[2],possible_hosts[3],possible_hosts[4]))\n",
    "\n",
    "#print(possible_hosts)\n",
    "ellipse(nick.lower()+'.fits',possible_hosts,sn_loc,title=nick,save=False,show=True)"
   ]
  },
  {
   "cell_type": "code",
   "execution_count": 19,
   "metadata": {},
   "outputs": [
    {
     "name": "stdout",
     "output_type": "stream",
     "text": [
      "Case 3: GND13Sto\n",
      "\n",
      "zSN = 1.833, zHost = 0.56, (sn - host) = 1.273\n",
      "\n",
      "********************************************************************************\n",
      "Nearest\n",
      "\n",
      "  id    z    ltau metal lage  Av  lmass lsfr lssfr  la2t   chi2  \n",
      "----- ------ ---- ----- ---- ---- ----- ---- ------ ---- --------\n",
      "27567 0.5600 9.60 0.020 9.90 4.00 10.57 0.43 -10.14 0.30 1.32e+01 \n",
      "\n",
      "0.5600\n",
      "\n",
      "Elliptical Radii Away\n",
      "\n",
      "4.475319918325295\n",
      "\n",
      "********************************************************************************\n",
      "Nearby\n",
      "\n",
      "  id    z    ltau metal lage  Av  lmass  lsfr lssfr  la2t   chi2  \n",
      "----- ------ ---- ----- ---- ---- ----- ----- ------ ---- --------\n",
      "27444 1.0700 9.00 0.020 9.60 0.60 10.45 -0.02 -10.47 0.60 1.50e+00\n",
      "27482 0.5600 8.80 0.020 8.80 0.90  9.48  0.62  -8.86 0.00 1.15e+00\n",
      "27567 0.5600 9.60 0.020 9.90 4.00 10.57  0.43 -10.14 0.30 1.32e+01\n",
      "27692 1.2600 7.00 0.020 7.90 0.60  8.11 -2.20 -10.30 0.90 1.99e+00\n",
      "27718 1.2500 7.20 0.020 8.00 0.00  7.85 -1.94  -9.79 0.80 5.12e+00\n",
      "27826 0.9300 8.40 0.020 8.70 0.00  7.86 -1.17  -9.03 0.30 9.68e-01\n",
      "27833 1.6800 7.40 0.020 8.30 0.00  8.81 -1.86 -10.67 0.90 7.73e+00\n",
      "\n",
      "\n",
      "  z   \n",
      "------\n",
      "1.0700\n",
      "0.5600\n",
      "0.5600\n",
      "1.2600\n",
      "1.2500\n",
      "0.9300\n",
      "1.6800\n",
      "\n",
      "Elliptical Radii Away\n",
      "4.989760895696029\n",
      "5.759624198312598\n",
      "4.475319918325295\n",
      "30.075381006856\n",
      "15.461700396983003\n",
      "45.084628147026734\n",
      "16.563509042148336\n",
      "\n",
      "\n"
     ]
    }
   ],
   "source": [
    "case_study(3)"
   ]
  },
  {
   "cell_type": "markdown",
   "metadata": {},
   "source": [
    "# This case another which needs either an update on the host or sn redshift. The disagreement is too large to be due to uncertainties.\n",
    "\n",
    "# The best host in terms of redshift would be id27833 at z~1.68 it is 16.6 ell radii away however while there are other options 3~4x closer. Next move to view image around sn location and identify which host is which with the ellipses shown."
   ]
  },
  {
   "cell_type": "code",
   "execution_count": 39,
   "metadata": {},
   "outputs": [
    {
     "data": {
      "image/png": "[encoded data removed]",
      "text/plain": [
       "<Figure size 432x288 with 1 Axes>"
      ]
     },
     "metadata": {
      "needs_background": "light"
     },
     "output_type": "display_data"
    }
   ],
   "source": [
    "#for i in range(len(candels_Ias)):\n",
    "# i for case study; don't need to loop\n",
    "# Case study 3\n",
    "# the SN nickname\n",
    "i = 3\n",
    "nick = discrepants[i][0][0]['name'] \n",
    "# the SN skycoord location\n",
    "sn_loc = SkyCoord(discrepants[i][0][0]['RA'],discrepants[i][0][0]['DEC'],unit = (u.hourangle,u.deg))\n",
    "\n",
    "# the nearby to the SN\n",
    "nearby = discrepants[i][0][1] \n",
    "# the host to the SN\n",
    "host = discrepants[i][0][2]\n",
    "\n",
    "# updating the surveys\n",
    "update_near = update_galaxy_survey.update_survey(nearby)\n",
    "update_host = update_galaxy_survey.update_survey(host[0])\n",
    "\n",
    "# renaming for clarity\n",
    "nearby = update_near\n",
    "host = [update_host,host[1],host[2]]\n",
    "\n",
    "# getting list of the ids, elliptical parameters for each nearby for this SN\n",
    "ids = [i for i in nearby.mass[nearby.ids]]\n",
    "nearby_coords = [i for i in nearby.gal_skycoords()]\n",
    "a_ellipse = [np.float(i) for i in nearby.photom[nearby.a_ellip]]\n",
    "b_ellipse = [np.float(i) for i in nearby.photom[nearby.b_ellip]]\n",
    "theta_ellipse = [np.float(i) for i in nearby.photom[nearby.theta_ellip]]\n",
    "\n",
    "\n",
    "# 5 element list, each element another x element list for a given SN with the x candidate parameters.\n",
    "possible_hosts = [nearby_coords, a_ellipse, b_ellipse, theta_ellipse,ids]\n",
    "\n",
    "# the ellipse 2nd argument wants a list with the x candidate parameters all together \n",
    "# ie not [[all coords], [all a], [all b], [all theta]] rather [[coords,a,b,theta],...]\n",
    "possible_hosts = list(zip(possible_hosts[0],possible_hosts[1],possible_hosts[2],possible_hosts[3],possible_hosts[4]))\n",
    "\n",
    "#print(possible_hosts)\n",
    "ellipse(nick.lower()+'.fits',possible_hosts,sn_loc,title=nick,save=False,show=True)"
   ]
  },
  {
   "cell_type": "code",
   "execution_count": 40,
   "metadata": {},
   "outputs": [
    {
     "name": "stdout",
     "output_type": "stream",
     "text": [
      "Case 4: GSD10Pri\n",
      "\n",
      "zSN = 1.545, zHost = 1.688, (sn - host) = -0.14300000000000002\n",
      "\n",
      "********************************************************************************\n",
      "Nearest\n",
      "\n",
      "  Seq     RAdeg      DECdeg    Hmag H_SNR  PhotFlag StarFlag Class_star AGNFlag zbest zspec q_zspec r_zspec zphot zphot_l68 zphot_u68 zphot_l95 zphot_u95  zAGN    M_med       s_med     M_neb_med   s_neb_med  delta_Mz M_2a_tau M_2d_tau M_6a_tau M_10c M_11a_tau M_12a M_13a_tau M_14a M_15a M_6a_tau^NEB M_6a_deltau M_6a_invtau M_10c^dust M_12a_tau M_14a_const M_14a_lin M_14a_deltau M_14a_tau\n",
      "------- --------- ----------- ----- ------ -------- -------- ---------- ------- ----- ----- ------- ------- ----- --------- --------- --------- --------- ----- ----------- ----------- ----------- ----------- -------- -------- -------- -------- ----- --------- ----- --------- ----- ----- ------------ ----------- ----------- ---------- --------- ----------- --------- ------------ ---------\n",
      "15591.0 53.158287 -27.7774506 24.35 163.71      0.0      0.0        0.0     0.0 1.688 -99.0   -99.0   -99.0 1.688      1.61      1.77      1.53      1.84 -99.0 976000000.0 199000000.0 792000000.0 127000000.0    0.268    -99.0    -99.0     9.03   9.0       8.8   8.9      9.05  8.93  9.04         8.93        9.07        8.79       8.98      8.79        8.95      8.97         8.95      8.93 \n",
      "\n",
      "1.688\n",
      "\n",
      "Elliptical Radii Away\n",
      "\n",
      "1.5899286031882913\n",
      "\n",
      "********************************************************************************\n",
      "Nearby\n",
      "\n",
      "  Seq     RAdeg       DECdeg    Hmag ... M_14a_lin M_14a_deltau M_14a_tau\n",
      "------- ---------- ----------- ----- ... --------- ------------ ---------\n",
      "15348.0 53.1584091  -27.778616 26.89 ...      8.39         8.35       8.3\n",
      "15371.0 53.1575508 -27.7783623 27.57 ...      7.69         7.65      7.66\n",
      "15434.0 53.1594162 -27.7778263 28.62 ...      7.72         7.72      7.71\n",
      "15543.0 53.1578331 -27.7775574 25.43 ...      9.12         9.01      8.97\n",
      "15546.0 53.1573029 -27.7774162 26.32 ...      8.45         8.42      8.38\n",
      "15562.0 53.1580276 -27.7769432 28.07 ...      7.95         7.96      7.95\n",
      "15591.0  53.158287 -27.7774506 24.35 ...      8.97         8.95      8.93\n",
      "15606.0 53.1572838 -27.7770786 25.95 ...      8.68         8.59      8.57\n",
      "15735.0 53.1574631 -27.7764473 24.37 ...      8.66         8.65      8.63\n",
      "31546.0 53.1586723  -27.777401 28.47 ...      7.69         7.68      7.76\n",
      "31557.0 53.1596031 -27.7771149 28.82 ...     -99.0         6.23      6.23\n",
      "\n",
      "\n",
      "zbest\n",
      "-----\n",
      "2.223\n",
      "1.487\n",
      "  2.5\n",
      " 2.69\n",
      "2.707\n",
      "2.806\n",
      "1.688\n",
      "1.602\n",
      "  0.8\n",
      " 2.06\n",
      " 0.14\n",
      "\n",
      "Elliptical Radii Away\n",
      "17.69243291453717\n",
      "29.431325138163032\n",
      "73.57572148988987\n",
      "8.970715923963873\n",
      "19.562165152892423\n",
      "20.376092906865882\n",
      "1.5899286031882913\n",
      "21.125741252429858\n",
      "12.554993912469586\n",
      "10.513431613773607\n",
      "52.62498174260164\n",
      "\n",
      "\n"
     ]
    }
   ],
   "source": [
    "case_study(4)"
   ]
  },
  {
   "cell_type": "code",
   "execution_count": 42,
   "metadata": {},
   "outputs": [
    {
     "data": {
      "image/png": "[encoded data removed]",
      "text/plain": [
       "<Figure size 432x288 with 1 Axes>"
      ]
     },
     "metadata": {
      "needs_background": "light"
     },
     "output_type": "display_data"
    }
   ],
   "source": [
    "#for i in range(len(candels_Ias)):\n",
    "# i for case study; don't need to loop\n",
    "# Case study 4\n",
    "# the SN nickname\n",
    "i = 4\n",
    "nick = discrepants[i][0][0]['name'] \n",
    "# the SN skycoord location\n",
    "sn_loc = SkyCoord(discrepants[i][0][0]['RA'],discrepants[i][0][0]['DEC'],unit = (u.hourangle,u.deg))\n",
    "\n",
    "# the nearby to the SN\n",
    "nearby = discrepants[i][0][1] \n",
    "# the host to the SN\n",
    "host = discrepants[i][0][2]\n",
    "\n",
    "# updating the surveys\n",
    "update_near = update_galaxy_survey.update_survey(nearby)\n",
    "update_host = update_galaxy_survey.update_survey(host[0])\n",
    "\n",
    "# renaming for clarity\n",
    "nearby = update_near\n",
    "host = [update_host,host[1],host[2]]\n",
    "\n",
    "# getting list of the ids, elliptical parameters for each nearby for this SN\n",
    "ids = [i for i in nearby.mass[nearby.ids]]\n",
    "nearby_coords = [i for i in nearby.gal_skycoords()]\n",
    "a_ellipse = [np.float(i) for i in nearby.photom[nearby.a_ellip]]\n",
    "b_ellipse = [np.float(i) for i in nearby.photom[nearby.b_ellip]]\n",
    "theta_ellipse = [np.float(i) for i in nearby.photom[nearby.theta_ellip]]\n",
    "\n",
    "\n",
    "# 5 element list, each element another x element list for a given SN with the x candidate parameters.\n",
    "possible_hosts = [nearby_coords, a_ellipse, b_ellipse, theta_ellipse,ids]\n",
    "\n",
    "# the ellipse 2nd argument wants a list with the x candidate parameters all together \n",
    "# ie not [[all coords], [all a], [all b], [all theta]] rather [[coords,a,b,theta],...]\n",
    "possible_hosts = list(zip(possible_hosts[0],possible_hosts[1],possible_hosts[2],possible_hosts[3],possible_hosts[4]))\n",
    "\n",
    "#print(possible_hosts)\n",
    "ellipse(nick.lower()+'.fits',possible_hosts,sn_loc,title=nick,save=False,show=True)"
   ]
  },
  {
   "cell_type": "code",
   "execution_count": 43,
   "metadata": {},
   "outputs": [
    {
     "name": "stdout",
     "output_type": "stream",
     "text": [
      "Case 5: GSD11Was\n",
      "\n",
      "zSN = 1.33, zHost = 0.851, (sn - host) = 0.4790000000000001\n",
      "\n",
      "********************************************************************************\n",
      "Nearest\n",
      "\n",
      " Seq     RAdeg       DECdeg    Hmag H_SNR PhotFlag StarFlag Class_star AGNFlag zbest zspec q_zspec r_zspec zphot zphot_l68 zphot_u68 zphot_l95 zphot_u95  zAGN    M_med      s_med     M_neb_med  s_neb_med  delta_Mz M_2a_tau M_2d_tau M_6a_tau M_10c M_11a_tau M_12a M_13a_tau M_14a M_15a M_6a_tau^NEB M_6a_deltau M_6a_invtau M_10c^dust M_12a_tau M_14a_const M_14a_lin M_14a_deltau M_14a_tau\n",
      "------ ---------- ----------- ----- ----- -------- -------- ---------- ------- ----- ----- ------- ------- ----- --------- --------- --------- --------- ----- ----------- ---------- ----------- ---------- -------- -------- -------- -------- ----- --------- ----- --------- ----- ----- ------------ ----------- ----------- ---------- --------- ----------- --------- ------------ ---------\n",
      "8859.0 53.0869217 -27.8281918 25.25 24.95      0.0      0.0       0.09     0.0 0.851 -99.0   -99.0   -99.0 0.851      0.76      0.95      0.69      1.04 -99.0 230000000.0 20400000.0 245000000.0 35700000.0    0.405     8.38     7.36     8.34  8.23      8.35  8.38      8.43  8.32  8.33         8.45        8.35         8.4       8.23      8.35        8.32      8.28         8.32      8.33 \n",
      "\n",
      "0.851\n",
      "\n",
      "Elliptical Radii Away\n",
      "\n",
      "0.3701726003539855\n",
      "\n",
      "********************************************************************************\n",
      "Nearby\n",
      "\n",
      "  Seq     RAdeg       DECdeg    Hmag ... M_14a_lin M_14a_deltau M_14a_tau\n",
      "------- ---------- ----------- ----- ... --------- ------------ ---------\n",
      " 8859.0 53.0869217 -27.8281918 25.25 ...      8.28         8.32      8.33\n",
      " 8866.0 53.0866241 -27.8281403 25.67 ...      8.56         8.55      8.52\n",
      " 8891.0 53.0869637 -27.8278751 25.26 ...      7.93         7.88      7.86\n",
      "29707.0 53.0860062 -27.8274479 27.16 ...      8.08         8.11      8.19\n",
      "\n",
      "\n",
      "zbest\n",
      "-----\n",
      "0.851\n",
      " 1.35\n",
      "0.596\n",
      "2.158\n",
      "\n",
      "Elliptical Radii Away\n",
      "0.3701726003539855\n",
      "6.165175960273379\n",
      "6.334241576639257\n",
      "45.46178289443911\n",
      "\n",
      "\n"
     ]
    }
   ],
   "source": [
    "case_study(5)"
   ]
  },
  {
   "cell_type": "markdown",
   "metadata": {},
   "source": [
    "# This case the second to nearest redshift is in very good agreement with snz, 1.35 and 1.33. \n",
    "\n",
    "# I'd guess this is the actual host which we can update the catalog to reflect and leave redshifts unchanged. \n",
    "\n",
    "# However should probably show the image around sn loc and host ell identified to see why there is an object so much nearer."
   ]
  },
  {
   "cell_type": "code",
   "execution_count": 44,
   "metadata": {},
   "outputs": [
    {
     "data": {
      "image/png": "[encoded data removed]",
      "text/plain": [
       "<Figure size 432x288 with 1 Axes>"
      ]
     },
     "metadata": {
      "needs_background": "light"
     },
     "output_type": "display_data"
    }
   ],
   "source": [
    "#for i in range(len(candels_Ias)):\n",
    "# i for case study; don't need to loop\n",
    "# Case study 3\n",
    "# the SN nickname\n",
    "i = 5\n",
    "nick = discrepants[i][0][0]['name'] \n",
    "# the SN skycoord location\n",
    "sn_loc = SkyCoord(discrepants[i][0][0]['RA'],discrepants[i][0][0]['DEC'],unit = (u.hourangle,u.deg))\n",
    "\n",
    "# the nearby to the SN\n",
    "nearby = discrepants[i][0][1] \n",
    "# the host to the SN\n",
    "host = discrepants[i][0][2]\n",
    "\n",
    "# updating the surveys\n",
    "update_near = update_galaxy_survey.update_survey(nearby)\n",
    "update_host = update_galaxy_survey.update_survey(host[0])\n",
    "\n",
    "# renaming for clarity\n",
    "nearby = update_near\n",
    "host = [update_host,host[1],host[2]]\n",
    "\n",
    "# getting list of the ids, elliptical parameters for each nearby for this SN\n",
    "ids = [i for i in nearby.mass[nearby.ids]]\n",
    "nearby_coords = [i for i in nearby.gal_skycoords()]\n",
    "a_ellipse = [np.float(i) for i in nearby.photom[nearby.a_ellip]]\n",
    "b_ellipse = [np.float(i) for i in nearby.photom[nearby.b_ellip]]\n",
    "theta_ellipse = [np.float(i) for i in nearby.photom[nearby.theta_ellip]]\n",
    "\n",
    "\n",
    "# 5 element list, each element another x element list for a given SN with the x candidate parameters.\n",
    "possible_hosts = [nearby_coords, a_ellipse, b_ellipse, theta_ellipse,ids]\n",
    "\n",
    "# the ellipse 2nd argument wants a list with the x candidate parameters all together \n",
    "# ie not [[all coords], [all a], [all b], [all theta]] rather [[coords,a,b,theta],...]\n",
    "possible_hosts = list(zip(possible_hosts[0],possible_hosts[1],possible_hosts[2],possible_hosts[3],possible_hosts[4]))\n",
    "\n",
    "#print(possible_hosts)\n",
    "ellipse(nick.lower()+'.fits',possible_hosts,sn_loc,title=nick,save=False,show=True)"
   ]
  },
  {
   "cell_type": "code",
   "execution_count": null,
   "metadata": {},
   "outputs": [],
   "source": []
  }
 ],
 "metadata": {
  "kernelspec": {
   "display_name": "Python 3",
   "language": "python",
   "name": "python3"
  },
  "language_info": {
   "codemirror_mode": {
    "name": "ipython",
    "version": 3
   },
   "file_extension": ".py",
   "mimetype": "text/x-python",
   "name": "python",
   "nbconvert_exporter": "python",
   "pygments_lexer": "ipython3",
   "version": "3.7.2"
  }
 },
 "nbformat": 4,
 "nbformat_minor": 2
}
