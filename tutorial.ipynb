{
 "cells": [
  {
   "cell_type": "markdown",
   "metadata": {},
   "source": [
    "Note you'll want to do this in a python 3 environment otherwise will run into pickle issues. \n",
    "\n",
    "Will also need the survey files I have pkl in galaxy_data one folder up from here ~ 10 Gb of data\n",
    "\n",
    "The scripts to import from are at https://github.com/koconnor4/galaxy_catalogs"
   ]
  },
  {
   "cell_type": "code",
   "execution_count": 79,
   "metadata": {},
   "outputs": [],
   "source": [
    "import numpy as np\n",
    "import csv\n",
    "from astropy.io import ascii\n",
    "from astropy import cosmology as cosmo\n",
    "from astropy.coordinates import SkyCoord,Angle  \n",
    "from astropy.table import Table,vstack\n",
    "import astropy.units as u\n",
    "import pickle\n",
    "import os\n",
    "import matplotlib.pyplot as plt \n",
    "\n",
    "from candels_galaxy_surveys import galaxy_catalog,galaxy_survey\n",
    "\n",
    "from update_galaxy_survey import update_survey"
   ]
  },
  {
   "cell_type": "code",
   "execution_count": 36,
   "metadata": {},
   "outputs": [],
   "source": [
    "# my data directory is one up in a folder galaxy_data\n",
    "# they are the galaxy surveys for the five fields\n",
    "__current_dir__=os.path.abspath(os.getcwd())\n",
    "__data_dir__=os.path.join(__current_dir__,\"..\",\"galaxy_data\")\n",
    "cos_survey =  pickle.load(open(os.path.join(__data_dir__,'cos.pkl'),'rb'))\n",
    "\n",
    "cats = ['cos','uds','goodss','egs','goodsn']\n",
    "gc = galaxy_catalog(cats)"
   ]
  },
  {
   "cell_type": "markdown",
   "metadata": {},
   "source": [
    "Galaxy catalog uses those identifiers to go into data directory with the earlier pickled galaxy surveys for these available fields. For me the data directory is one folder up named galaxy_data. Five pkl survey objects one for each field. They are too large for github but can provide them for anyone interested in using this script.\n",
    "\n",
    "They were created initially using the output_survey function in the script which is now irrelevant, not used for anything else.\n",
    "\n",
    "The principal use of the galaxy_catalog is to find nearby galaxies to a given skycoord location. "
   ]
  },
  {
   "cell_type": "code",
   "execution_count": 5,
   "metadata": {},
   "outputs": [
    {
     "name": "stdout",
     "output_type": "stream",
     "text": [
      "Nayyeri2017; cos_candels; https://archive.stsci.edu/prepds/candels/ Nayyeri2017; cos_candels; https://archive.stsci.edu/prepds/candels/\n"
     ]
    }
   ],
   "source": [
    "# giving a location at center of cosmos survey for demo\n",
    "loc = SkyCoord('10:00:28.6','+02:12:21.0',unit = (u.hourangle,u.deg))\n",
    "\n",
    "# the nearby function for catalog requires survey(s) to look through and a skycoord location\n",
    "# it will default to searching within 5 arcseconds unless specified\n",
    "# it will return a galaxy_survey of the galaxies inside angular region \n",
    "nearby_demo = gc.nearby('cos', loc, within=Angle(2.5/3600,u.deg))"
   ]
  },
  {
   "cell_type": "markdown",
   "metadata": {},
   "source": [
    "The nearby function will accept list of multiple surveys to look through. For example could have used ['cos','uds'] as first argument and it would look through both of those. However I'd recommend using as few as possible as this is already a slow function; for single location takes a couple minutes to search a single survey. Use the location you want to look around to decide which survey is relevant.\n",
    "\n",
    "The return from the nearby function is a galaxy_survey which is what is used primarily from this script. The galaxy_survey object is initialized using source, physpar, mass, photom. \n",
    "\n",
    "The sources are given in script, just links to website where data was taken from along with credit to author. The physpar, mass, photom are astropy tables I put together of the data from these authors. Don't need to worry about entering these as they are defaults which don't change in the data directory; now properties of all survey objects. \n",
    "\n",
    "Look now at the survey class."
   ]
  },
  {
   "cell_type": "code",
   "execution_count": 44,
   "metadata": {},
   "outputs": [
    {
     "name": "stdout",
     "output_type": "stream",
     "text": [
      "Nearby mass tables:\n",
      "  ID    Hmag (mag)  ... M_med_lin dex((solMass))  s_med_lin dex((solMass))\n",
      "------- ----------- ... ------------------------- ------------------------\n",
      " 2170.0      23.796 ...                      8.09                   0.0999\n",
      "29757.0      27.172 ...                      7.84                    0.151\n",
      "cos has  33950  galaxies in survey\n",
      "Nayyeri2017; cos_candels; https://archive.stsci.edu/prepds/candels/ Nayyeri2017; cos_candels; https://archive.stsci.edu/prepds/candels/\n",
      "[<candels_galaxy_surveys.galaxy_survey object at 0x12861bbe0>, 11.282535850709943, [11.282535850709943, 16.269793954432785]]\n"
     ]
    }
   ],
   "source": [
    "# access a table (mass,phypsar, or photom); will stack the data for the different galaxies \n",
    "print('Nearby mass tables:')\n",
    "print(nearby_demo.mass)\n",
    "\n",
    "# so if you want to know how many galaxies in a survey can just ask for length of a table\n",
    "print('cos has ',len(cos_survey.mass),' galaxies in survey')\n",
    "\n",
    "# can ask for the locations of the galaxies in a survey\n",
    "nearby_demo.gal_skycoords()\n",
    "\n",
    "# the nearest function requires location, optional is conversion which defaults to the below\n",
    "# default should be correct for all the surveys can omit\n",
    "nearest_demo = nearby_demo.nearest(loc,conversion=3600.0/0.06)\n",
    "print(nearest_demo)"
   ]
  },
  {
   "cell_type": "markdown",
   "metadata": {},
   "source": [
    "The nearest function for a survey returns list of three objects; 1: survey for nearest galaxy in terms of elliptical radii from the location 2: the elliptical radii of this nearest 3: the elliptical radii of all the other nearby.\n",
    "\n",
    "the conversion is because we get seperation in degrees from skycoord sep of galaxy location in survey from given location that needs to go to arcseconds... and then to pixels which comes from underlying image. More complete description in the script function\n",
    "\n",
    "The surveys also use source to get header values from table to access commonly requested parameters. Some currently available include redshift, coordinates, kron radius, elliptical parameters, sfr, age etc. To know the property names need to look in script. I should come up with some way to make this clearer. Also isn't obvious which table the parameter belongs to; need to come up with way for this to be indicated.\n",
    "\n",
    "As an example lets look at a few parameters of the survey for nearest galaxy from our demo"
   ]
  },
  {
   "cell_type": "code",
   "execution_count": 77,
   "metadata": {},
   "outputs": [
    {
     "name": "stdout",
     "output_type": "stream",
     "text": [
      "age_2a_tau (dex(yr)) \n",
      "8.5\n",
      "KRON_RADIUS (pixel) \n",
      "4.320\n",
      "SFR_2a_tau (solMass/yr) \n",
      "0.195\n"
     ]
    }
   ],
   "source": [
    "nearest_survey = nearest_demo[0] # survey of nearest galaxy from our demo\n",
    "\n",
    "age = nearest_survey.age_2a_tau # the name in table header needed to access\n",
    "print(age)\n",
    "print(nearest_survey.physpar[age])\n",
    "\n",
    "kron = nearest_survey.kron_radius_names \n",
    "print(kron)\n",
    "print(nearest_survey.photom[kron])\n",
    "\n",
    "sfr = nearest_survey.sfr_2a_tau\n",
    "print(sfr)\n",
    "print(nearest_survey.physpar[sfr])"
   ]
  },
  {
   "cell_type": "markdown",
   "metadata": {},
   "source": [
    "Occasionally the survey class is updated so that other parameters we want to look at are quickly accessible. If you have an old survey from previous pickle that was from before the most recent update to the class it is easy to 'upgrade' the survey so it has the most recent additions. \n",
    "\n",
    "You'll see something like the error below for the old cos data survey where I ask for the age which was not yet implemented when that pickle was made. \n",
    "\n",
    "To update use update_survey function from the script"
   ]
  },
  {
   "cell_type": "code",
   "execution_count": 76,
   "metadata": {},
   "outputs": [
    {
     "ename": "AttributeError",
     "evalue": "'galaxy_survey' object has no attribute 'age_2a_tau'",
     "output_type": "error",
     "traceback": [
      "\u001b[0;31m---------------------------------------------------------------------------\u001b[0m",
      "\u001b[0;31mAttributeError\u001b[0m                            Traceback (most recent call last)",
      "\u001b[0;32m<ipython-input-76-2c8a012e06e5>\u001b[0m in \u001b[0;36m<module>\u001b[0;34m\u001b[0m\n\u001b[0;32m----> 1\u001b[0;31m \u001b[0mcos_survey\u001b[0m\u001b[0;34m.\u001b[0m\u001b[0mage_2a_tau\u001b[0m \u001b[0;31m# old survey doesn't yet have this property\u001b[0m\u001b[0;34m\u001b[0m\u001b[0;34m\u001b[0m\u001b[0m\n\u001b[0m",
      "\u001b[0;31mAttributeError\u001b[0m: 'galaxy_survey' object has no attribute 'age_2a_tau'"
     ]
    }
   ],
   "source": [
    "cos_survey.age_2a_tau # old survey doesn't yet have this property"
   ]
  },
  {
   "cell_type": "code",
   "execution_count": 80,
   "metadata": {},
   "outputs": [
    {
     "name": "stdout",
     "output_type": "stream",
     "text": [
      "Nayyeri2017; cos_candels; https://archive.stsci.edu/prepds/candels/ Nayyeri2017; cos_candels; https://archive.stsci.edu/prepds/candels/\n"
     ]
    },
    {
     "data": {
      "text/plain": [
       "<candels_galaxy_surveys.galaxy_survey at 0x127dc0e10>"
      ]
     },
     "execution_count": 80,
     "metadata": {},
     "output_type": "execute_result"
    }
   ],
   "source": [
    "# your most up-to-date script from latest commit has new property \n",
    "# and you get a message attribute error galaxy_survey has no attribute '' with old survey \n",
    "# try this update survey function \n",
    "\n",
    "update_survey(cos_survey)"
   ]
  },
  {
   "cell_type": "code",
   "execution_count": null,
   "metadata": {},
   "outputs": [],
   "source": []
  }
 ],
 "metadata": {
  "kernelspec": {
   "display_name": "Python 3",
   "language": "python",
   "name": "python3"
  },
  "language_info": {
   "codemirror_mode": {
    "name": "ipython",
    "version": 3
   },
   "file_extension": ".py",
   "mimetype": "text/x-python",
   "name": "python",
   "nbconvert_exporter": "python",
   "pygments_lexer": "ipython3",
   "version": "3.7.2"
  }
 },
 "nbformat": 4,
 "nbformat_minor": 2
}
