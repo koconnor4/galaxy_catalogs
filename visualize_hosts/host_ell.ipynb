{
 "cells": [
  {
   "cell_type": "code",
   "execution_count": 1,
   "metadata": {},
   "outputs": [],
   "source": [
    "import copy\n",
    "import pickle\n",
    "import numpy as np\n",
    "import glob\n",
    "import os \n",
    "import sys\n",
    "\n",
    "# matplotlib\n",
    "import matplotlib\n",
    "import matplotlib.pyplot as plt\n",
    "from matplotlib.patches import Ellipse\n",
    "\n",
    "# astropy\n",
    "from astropy.io import fits\n",
    "from astropy.nddata import Cutout2D\n",
    "from astropy.utils.data import download_file\n",
    "from astropy.coordinates import SkyCoord\n",
    "from astropy import wcs\n",
    "import astropy.units as u\n",
    "\n",
    "import sys\n",
    "# so can find module one dir back; don't need to explicitly put .py into each subfolder \n",
    "sys.path.append(\"..\")\n",
    "from candels_galaxy_surveys import galaxy_catalog,galaxy_survey\n",
    "import update_galaxy_survey\n",
    "\n",
    "from sn_cutout import ellipse"
   ]
  },
  {
   "cell_type": "code",
   "execution_count": 2,
   "metadata": {},
   "outputs": [],
   "source": [
    "# we want the sn catalog\n",
    "__current_dir__=os.path.abspath(os.getcwd())\n",
    "__host_data_dir__=os.path.join(__current_dir__,\"..\",\"host_hists/host_data/\")\n",
    "\n",
    "candels_Ias = pickle.load(open(os.path.join(__host_data_dir__+'candels_Ias.pkl'),'rb'))"
   ]
  },
  {
   "cell_type": "code",
   "execution_count": 3,
   "metadata": {},
   "outputs": [],
   "source": [
    "# the sn nicknames so we can name the file\n",
    "nicks = [candels_Ias[i][0]['name'] for i in range(len(candels_Ias))]\n",
    "# the sn coords so can mark the sn location at center of cutout\n",
    "sn_coords = [SkyCoord(candels_Ias[i][0]['RA'],candels_Ias[i][0]['DEC'],unit = (u.hourangle,u.deg)) for i in range(len(candels_Ias))]\n",
    "\n",
    "# the nearby survey\n",
    "nearbys = [candels_Ias[i][1] for i in range(len(candels_Ias))]\n",
    "# the host [survey,nearest ell rad,nearby ell rad]\n",
    "hosts = [candels_Ias[i][2] for i in range(len(candels_Ias))]\n",
    "\n",
    "# updating the surveys\n",
    "updated_nearbys = []\n",
    "for i in range(len(nearbys)):\n",
    "    update = update_galaxy_survey.update_survey(nearbys[i])\n",
    "    updated_nearbys.append(update)\n",
    "\n",
    "updated_hosts = []\n",
    "for i in range(len(hosts)):\n",
    "    update = update_galaxy_survey.update_survey(hosts[i][0])\n",
    "    updated_hosts.append([update,hosts[i][1],hosts[i][2]])\n",
    "\n",
    "# renaming for clarity\n",
    "nearbys = updated_nearbys\n",
    "hosts = updated_hosts"
   ]
  },
  {
   "cell_type": "code",
   "execution_count": null,
   "metadata": {},
   "outputs": [],
   "source": [
    "# grab the skycoord and elliptical parameters for each possible host of each sn\n",
    "# ellipse function needs it like [ [skycoords],[as],[bs],[thetas] ],...] where ... \n",
    "possible_hosts = []\n",
    "for i in range(len(candels_Ias)):\n",
    "    "
   ]
  },
  {
   "cell_type": "markdown",
   "metadata": {},
   "source": [
    "ellipse(file, possible_hosts, sn_position, title, save=False, show=False)\n",
    "requires 4 arguments; 2 optional\n",
    "\n",
    "1. file is the cutout fits file for the sn we are going to put the ellipses on. it requires the sn id/nickname.\n",
    "2. possible_hosts should be a list of the nearby hosts, each element in list another 4 element list with the given candidates [skycoord, a, b, theta]. \n",
    "The ellipse function isn't smart enough to get this from a given nearby survey which is why this needs to be put together in the nb.\n",
    "3. skycoord of sn loc\n",
    "4. title is for the figure, maybe just a string with sn id\n",
    "\n",
    "optionally save the output figure with ellipses on cutout to a folder nearby_host_ellipses and/or show in nb"
   ]
  },
  {
   "cell_type": "code",
   "execution_count": 10,
   "metadata": {},
   "outputs": [
    {
     "name": "stdout",
     "output_type": "stream",
     "text": [
      "[<SkyCoord (ICRS): (ra, dec) in deg\n",
      "    (215.136416, 53.045854)>, 2.514, 2.217, -34.5]\n",
      "-0.017784216\n"
     ]
    },
    {
     "ename": "TypeError",
     "evalue": "'Longitude' object with a scalar value does not support indexing",
     "output_type": "error",
     "traceback": [
      "\u001b[0;31m---------------------------------------------------------------------------\u001b[0m",
      "\u001b[0;31mIndexError\u001b[0m                                Traceback (most recent call last)",
      "\u001b[0;32m~/anaconda2/envs/py3/lib/python3.7/site-packages/astropy/units/quantity.py\u001b[0m in \u001b[0;36m__getitem__\u001b[0;34m(self, key)\u001b[0m\n\u001b[1;32m   1034\u001b[0m         \u001b[0;32mtry\u001b[0m\u001b[0;34m:\u001b[0m\u001b[0;34m\u001b[0m\u001b[0;34m\u001b[0m\u001b[0m\n\u001b[0;32m-> 1035\u001b[0;31m             \u001b[0mout\u001b[0m \u001b[0;34m=\u001b[0m \u001b[0msuper\u001b[0m\u001b[0;34m(\u001b[0m\u001b[0;34m)\u001b[0m\u001b[0;34m.\u001b[0m\u001b[0m__getitem__\u001b[0m\u001b[0;34m(\u001b[0m\u001b[0mkey\u001b[0m\u001b[0;34m)\u001b[0m\u001b[0;34m\u001b[0m\u001b[0;34m\u001b[0m\u001b[0m\n\u001b[0m\u001b[1;32m   1036\u001b[0m         \u001b[0;32mexcept\u001b[0m \u001b[0mIndexError\u001b[0m\u001b[0;34m:\u001b[0m\u001b[0;34m\u001b[0m\u001b[0;34m\u001b[0m\u001b[0m\n",
      "\u001b[0;31mIndexError\u001b[0m: too many indices for array",
      "\nDuring handling of the above exception, another exception occurred:\n",
      "\u001b[0;31mTypeError\u001b[0m                                 Traceback (most recent call last)",
      "\u001b[0;32m<ipython-input-10-89ea6170a35a>\u001b[0m in \u001b[0;36m<module>\u001b[0;34m\u001b[0m\n\u001b[1;32m     18\u001b[0m     \u001b[0mpossible_hosts\u001b[0m \u001b[0;34m=\u001b[0m \u001b[0;34m[\u001b[0m\u001b[0mnearby_coords\u001b[0m\u001b[0;34m[\u001b[0m\u001b[0mi\u001b[0m\u001b[0;34m]\u001b[0m\u001b[0;34m,\u001b[0m \u001b[0ma_ellipse\u001b[0m\u001b[0;34m[\u001b[0m\u001b[0mi\u001b[0m\u001b[0;34m]\u001b[0m\u001b[0;34m,\u001b[0m \u001b[0mb_ellipse\u001b[0m\u001b[0;34m[\u001b[0m\u001b[0mi\u001b[0m\u001b[0;34m]\u001b[0m\u001b[0;34m,\u001b[0m \u001b[0mtheta_ellipse\u001b[0m\u001b[0;34m[\u001b[0m\u001b[0mi\u001b[0m\u001b[0;34m]\u001b[0m\u001b[0;34m]\u001b[0m\u001b[0;34m\u001b[0m\u001b[0;34m\u001b[0m\u001b[0m\n\u001b[1;32m     19\u001b[0m     \u001b[0mprint\u001b[0m\u001b[0;34m(\u001b[0m\u001b[0mpossible_hosts\u001b[0m\u001b[0;34m)\u001b[0m\u001b[0;34m\u001b[0m\u001b[0;34m\u001b[0m\u001b[0m\n\u001b[0;32m---> 20\u001b[0;31m     \u001b[0mellipse\u001b[0m\u001b[0;34m(\u001b[0m\u001b[0mnick\u001b[0m\u001b[0;34m.\u001b[0m\u001b[0mlower\u001b[0m\u001b[0;34m(\u001b[0m\u001b[0;34m)\u001b[0m\u001b[0;34m+\u001b[0m\u001b[0;34m'.fits'\u001b[0m\u001b[0;34m,\u001b[0m\u001b[0mpossible_hosts\u001b[0m\u001b[0;34m,\u001b[0m\u001b[0msn_loc\u001b[0m\u001b[0;34m,\u001b[0m\u001b[0mtitle\u001b[0m\u001b[0;34m=\u001b[0m\u001b[0;34m'temp_scale'\u001b[0m\u001b[0;34m,\u001b[0m\u001b[0msave\u001b[0m\u001b[0;34m=\u001b[0m\u001b[0;32mFalse\u001b[0m\u001b[0;34m,\u001b[0m\u001b[0mshow\u001b[0m\u001b[0;34m=\u001b[0m\u001b[0;32mTrue\u001b[0m\u001b[0;34m)\u001b[0m\u001b[0;34m\u001b[0m\u001b[0;34m\u001b[0m\u001b[0m\n\u001b[0m",
      "\u001b[0;32m~/Documents/galaxy_catalogs/galaxy_catalog/visualize_hosts/sn_cutout.py\u001b[0m in \u001b[0;36mellipse\u001b[0;34m(file, possible_hosts, sn_position, title, save, show)\u001b[0m\n\u001b[1;32m    113\u001b[0m     \u001b[0;31m# now into the possible hosts to get major,minor,position angle and plot ellipse at loc\u001b[0m\u001b[0;34m\u001b[0m\u001b[0;34m\u001b[0m\u001b[0;34m\u001b[0m\u001b[0m\n\u001b[1;32m    114\u001b[0m     \u001b[0;32mfor\u001b[0m \u001b[0mi\u001b[0m \u001b[0;32min\u001b[0m \u001b[0mrange\u001b[0m\u001b[0;34m(\u001b[0m\u001b[0mlen\u001b[0m\u001b[0;34m(\u001b[0m\u001b[0mpossible_hosts\u001b[0m\u001b[0;34m)\u001b[0m\u001b[0;34m)\u001b[0m\u001b[0;34m:\u001b[0m\u001b[0;34m\u001b[0m\u001b[0;34m\u001b[0m\u001b[0m\n\u001b[0;32m--> 115\u001b[0;31m         \u001b[0mgal_position\u001b[0m \u001b[0;34m=\u001b[0m \u001b[0mpossible_hosts\u001b[0m\u001b[0;34m[\u001b[0m\u001b[0mi\u001b[0m\u001b[0;34m]\u001b[0m\u001b[0;34m[\u001b[0m\u001b[0;36m0\u001b[0m\u001b[0;34m]\u001b[0m \u001b[0;31m# SkyCoord ra,dec for the host\u001b[0m\u001b[0;34m\u001b[0m\u001b[0;34m\u001b[0m\u001b[0m\n\u001b[0m\u001b[1;32m    116\u001b[0m         \u001b[0;31m# get the pixel coords for the center of the host using wcs\u001b[0m\u001b[0;34m\u001b[0m\u001b[0;34m\u001b[0m\u001b[0;34m\u001b[0m\u001b[0m\n\u001b[1;32m    117\u001b[0m         \u001b[0mgal_pixel_coords\u001b[0m \u001b[0;34m=\u001b[0m \u001b[0mwcs\u001b[0m\u001b[0;34m.\u001b[0m\u001b[0mutils\u001b[0m\u001b[0;34m.\u001b[0m\u001b[0mskycoord_to_pixel\u001b[0m\u001b[0;34m(\u001b[0m\u001b[0mgal_position\u001b[0m\u001b[0;34m,\u001b[0m \u001b[0mw\u001b[0m\u001b[0;34m,\u001b[0m \u001b[0morigin\u001b[0m\u001b[0;34m=\u001b[0m\u001b[0;36m1\u001b[0m\u001b[0;34m,\u001b[0m \u001b[0mmode\u001b[0m\u001b[0;34m=\u001b[0m\u001b[0;34m'all'\u001b[0m\u001b[0;34m)\u001b[0m\u001b[0;34m\u001b[0m\u001b[0;34m\u001b[0m\u001b[0m\n",
      "\u001b[0;32m~/anaconda2/envs/py3/lib/python3.7/site-packages/astropy/utils/misc.py\u001b[0m in \u001b[0;36m__getitem__\u001b[0;34m(self, item)\u001b[0m\n\u001b[1;32m    938\u001b[0m     \u001b[0;32mdef\u001b[0m \u001b[0m__getitem__\u001b[0m\u001b[0;34m(\u001b[0m\u001b[0mself\u001b[0m\u001b[0;34m,\u001b[0m \u001b[0mitem\u001b[0m\u001b[0;34m)\u001b[0m\u001b[0;34m:\u001b[0m\u001b[0;34m\u001b[0m\u001b[0;34m\u001b[0m\u001b[0m\n\u001b[1;32m    939\u001b[0m         \u001b[0;32mtry\u001b[0m\u001b[0;34m:\u001b[0m\u001b[0;34m\u001b[0m\u001b[0;34m\u001b[0m\u001b[0m\n\u001b[0;32m--> 940\u001b[0;31m             \u001b[0;32mreturn\u001b[0m \u001b[0mself\u001b[0m\u001b[0;34m.\u001b[0m\u001b[0m_apply\u001b[0m\u001b[0;34m(\u001b[0m\u001b[0;34m'__getitem__'\u001b[0m\u001b[0;34m,\u001b[0m \u001b[0mitem\u001b[0m\u001b[0;34m)\u001b[0m\u001b[0;34m\u001b[0m\u001b[0;34m\u001b[0m\u001b[0m\n\u001b[0m\u001b[1;32m    941\u001b[0m         \u001b[0;32mexcept\u001b[0m \u001b[0mIndexError\u001b[0m\u001b[0;34m:\u001b[0m\u001b[0;34m\u001b[0m\u001b[0;34m\u001b[0m\u001b[0m\n\u001b[1;32m    942\u001b[0m             \u001b[0;32mif\u001b[0m \u001b[0mself\u001b[0m\u001b[0;34m.\u001b[0m\u001b[0misscalar\u001b[0m\u001b[0;34m:\u001b[0m\u001b[0;34m\u001b[0m\u001b[0;34m\u001b[0m\u001b[0m\n",
      "\u001b[0;32m~/anaconda2/envs/py3/lib/python3.7/site-packages/astropy/coordinates/sky_coordinate.py\u001b[0m in \u001b[0;36m_apply\u001b[0;34m(self, method, *args, **kwargs)\u001b[0m\n\u001b[1;32m    337\u001b[0m         \u001b[0mnew\u001b[0m \u001b[0;34m=\u001b[0m \u001b[0msuper\u001b[0m\u001b[0;34m(\u001b[0m\u001b[0;34m)\u001b[0m\u001b[0;34m.\u001b[0m\u001b[0m__new__\u001b[0m\u001b[0;34m(\u001b[0m\u001b[0mself\u001b[0m\u001b[0;34m.\u001b[0m\u001b[0m__class__\u001b[0m\u001b[0;34m)\u001b[0m\u001b[0;34m\u001b[0m\u001b[0;34m\u001b[0m\u001b[0m\n\u001b[1;32m    338\u001b[0m         new._sky_coord_frame = self._sky_coord_frame._apply(method,\n\u001b[0;32m--> 339\u001b[0;31m                                                             *args, **kwargs)\n\u001b[0m\u001b[1;32m    340\u001b[0m         \u001b[0mnew\u001b[0m\u001b[0;34m.\u001b[0m\u001b[0m_extra_frameattr_names\u001b[0m \u001b[0;34m=\u001b[0m \u001b[0mself\u001b[0m\u001b[0;34m.\u001b[0m\u001b[0m_extra_frameattr_names\u001b[0m\u001b[0;34m.\u001b[0m\u001b[0mcopy\u001b[0m\u001b[0;34m(\u001b[0m\u001b[0;34m)\u001b[0m\u001b[0;34m\u001b[0m\u001b[0;34m\u001b[0m\u001b[0m\n\u001b[1;32m    341\u001b[0m         \u001b[0;32mfor\u001b[0m \u001b[0mattr\u001b[0m \u001b[0;32min\u001b[0m \u001b[0mself\u001b[0m\u001b[0;34m.\u001b[0m\u001b[0m_extra_frameattr_names\u001b[0m\u001b[0;34m:\u001b[0m\u001b[0;34m\u001b[0m\u001b[0;34m\u001b[0m\u001b[0m\n",
      "\u001b[0;32m~/anaconda2/envs/py3/lib/python3.7/site-packages/astropy/coordinates/baseframe.py\u001b[0m in \u001b[0;36m_apply\u001b[0;34m(self, method, *args, **kwargs)\u001b[0m\n\u001b[1;32m   1474\u001b[0m \u001b[0;34m\u001b[0m\u001b[0m\n\u001b[1;32m   1475\u001b[0m         \u001b[0;32mif\u001b[0m \u001b[0mself\u001b[0m\u001b[0;34m.\u001b[0m\u001b[0mhas_data\u001b[0m\u001b[0;34m:\u001b[0m\u001b[0;34m\u001b[0m\u001b[0;34m\u001b[0m\u001b[0m\n\u001b[0;32m-> 1476\u001b[0;31m             \u001b[0mnew\u001b[0m\u001b[0;34m.\u001b[0m\u001b[0m_data\u001b[0m \u001b[0;34m=\u001b[0m \u001b[0mapply_method\u001b[0m\u001b[0;34m(\u001b[0m\u001b[0mself\u001b[0m\u001b[0;34m.\u001b[0m\u001b[0mdata\u001b[0m\u001b[0;34m)\u001b[0m\u001b[0;34m\u001b[0m\u001b[0;34m\u001b[0m\u001b[0m\n\u001b[0m\u001b[1;32m   1477\u001b[0m         \u001b[0;32melse\u001b[0m\u001b[0;34m:\u001b[0m\u001b[0;34m\u001b[0m\u001b[0;34m\u001b[0m\u001b[0m\n\u001b[1;32m   1478\u001b[0m             \u001b[0mnew\u001b[0m\u001b[0;34m.\u001b[0m\u001b[0m_data\u001b[0m \u001b[0;34m=\u001b[0m \u001b[0;32mNone\u001b[0m\u001b[0;34m\u001b[0m\u001b[0;34m\u001b[0m\u001b[0m\n",
      "\u001b[0;32m~/anaconda2/envs/py3/lib/python3.7/site-packages/astropy/coordinates/baseframe.py\u001b[0m in \u001b[0;36mapply_method\u001b[0;34m(value)\u001b[0m\n\u001b[1;32m   1445\u001b[0m         \u001b[0;32mdef\u001b[0m \u001b[0mapply_method\u001b[0m\u001b[0;34m(\u001b[0m\u001b[0mvalue\u001b[0m\u001b[0;34m)\u001b[0m\u001b[0;34m:\u001b[0m\u001b[0;34m\u001b[0m\u001b[0;34m\u001b[0m\u001b[0m\n\u001b[1;32m   1446\u001b[0m             \u001b[0;32mif\u001b[0m \u001b[0misinstance\u001b[0m\u001b[0;34m(\u001b[0m\u001b[0mvalue\u001b[0m\u001b[0;34m,\u001b[0m \u001b[0mShapedLikeNDArray\u001b[0m\u001b[0;34m)\u001b[0m\u001b[0;34m:\u001b[0m\u001b[0;34m\u001b[0m\u001b[0;34m\u001b[0m\u001b[0m\n\u001b[0;32m-> 1447\u001b[0;31m                 \u001b[0;32mreturn\u001b[0m \u001b[0mvalue\u001b[0m\u001b[0;34m.\u001b[0m\u001b[0m_apply\u001b[0m\u001b[0;34m(\u001b[0m\u001b[0mmethod\u001b[0m\u001b[0;34m,\u001b[0m \u001b[0;34m*\u001b[0m\u001b[0margs\u001b[0m\u001b[0;34m,\u001b[0m \u001b[0;34m**\u001b[0m\u001b[0mkwargs\u001b[0m\u001b[0;34m)\u001b[0m\u001b[0;34m\u001b[0m\u001b[0;34m\u001b[0m\u001b[0m\n\u001b[0m\u001b[1;32m   1448\u001b[0m             \u001b[0;32melse\u001b[0m\u001b[0;34m:\u001b[0m\u001b[0;34m\u001b[0m\u001b[0;34m\u001b[0m\u001b[0m\n\u001b[1;32m   1449\u001b[0m                 \u001b[0;32mif\u001b[0m \u001b[0mcallable\u001b[0m\u001b[0;34m(\u001b[0m\u001b[0mmethod\u001b[0m\u001b[0;34m)\u001b[0m\u001b[0;34m:\u001b[0m\u001b[0;34m\u001b[0m\u001b[0;34m\u001b[0m\u001b[0m\n",
      "\u001b[0;32m~/anaconda2/envs/py3/lib/python3.7/site-packages/astropy/coordinates/representation.py\u001b[0m in \u001b[0;36m_apply\u001b[0;34m(self, method, *args, **kwargs)\u001b[0m\n\u001b[1;32m    778\u001b[0m \u001b[0;34m\u001b[0m\u001b[0m\n\u001b[1;32m    779\u001b[0m         \"\"\"\n\u001b[0;32m--> 780\u001b[0;31m         \u001b[0mrep\u001b[0m \u001b[0;34m=\u001b[0m \u001b[0msuper\u001b[0m\u001b[0;34m(\u001b[0m\u001b[0;34m)\u001b[0m\u001b[0;34m.\u001b[0m\u001b[0m_apply\u001b[0m\u001b[0;34m(\u001b[0m\u001b[0mmethod\u001b[0m\u001b[0;34m,\u001b[0m \u001b[0;34m*\u001b[0m\u001b[0margs\u001b[0m\u001b[0;34m,\u001b[0m \u001b[0;34m**\u001b[0m\u001b[0mkwargs\u001b[0m\u001b[0;34m)\u001b[0m\u001b[0;34m\u001b[0m\u001b[0;34m\u001b[0m\u001b[0m\n\u001b[0m\u001b[1;32m    781\u001b[0m \u001b[0;34m\u001b[0m\u001b[0m\n\u001b[1;32m    782\u001b[0m         rep._differentials = dict(\n",
      "\u001b[0;32m~/anaconda2/envs/py3/lib/python3.7/site-packages/astropy/coordinates/representation.py\u001b[0m in \u001b[0;36m_apply\u001b[0;34m(self, method, *args, **kwargs)\u001b[0m\n\u001b[1;32m    261\u001b[0m         \u001b[0;32mfor\u001b[0m \u001b[0mcomponent\u001b[0m \u001b[0;32min\u001b[0m \u001b[0mself\u001b[0m\u001b[0;34m.\u001b[0m\u001b[0mcomponents\u001b[0m\u001b[0;34m:\u001b[0m\u001b[0;34m\u001b[0m\u001b[0;34m\u001b[0m\u001b[0m\n\u001b[1;32m    262\u001b[0m             setattr(new, '_' + component,\n\u001b[0;32m--> 263\u001b[0;31m                     apply_method(getattr(self, component)))\n\u001b[0m\u001b[1;32m    264\u001b[0m         \u001b[0;32mreturn\u001b[0m \u001b[0mnew\u001b[0m\u001b[0;34m\u001b[0m\u001b[0;34m\u001b[0m\u001b[0m\n\u001b[1;32m    265\u001b[0m \u001b[0;34m\u001b[0m\u001b[0m\n",
      "\u001b[0;32m~/anaconda2/envs/py3/lib/python3.7/site-packages/astropy/units/quantity.py\u001b[0m in \u001b[0;36m__getitem__\u001b[0;34m(self, key)\u001b[0m\n\u001b[1;32m   1040\u001b[0m                 raise TypeError(\n\u001b[1;32m   1041\u001b[0m                     \u001b[0;34m\"'{cls}' object with a scalar value does not support \"\u001b[0m\u001b[0;34m\u001b[0m\u001b[0;34m\u001b[0m\u001b[0m\n\u001b[0;32m-> 1042\u001b[0;31m                     \"indexing\".format(cls=self.__class__.__name__))\n\u001b[0m\u001b[1;32m   1043\u001b[0m             \u001b[0;32melse\u001b[0m\u001b[0;34m:\u001b[0m\u001b[0;34m\u001b[0m\u001b[0;34m\u001b[0m\u001b[0m\n\u001b[1;32m   1044\u001b[0m                 \u001b[0;32mraise\u001b[0m\u001b[0;34m\u001b[0m\u001b[0;34m\u001b[0m\u001b[0m\n",
      "\u001b[0;31mTypeError\u001b[0m: 'Longitude' object with a scalar value does not support indexing"
     ]
    },
    {
     "data": {
      "image/png": "[encoded data removed]",
      "text/plain": [
       "<Figure size 432x288 with 1 Axes>"
      ]
     },
     "metadata": {
      "needs_background": "light"
     },
     "output_type": "display_data"
    }
   ],
   "source": [
    "for i in range(len(candels_Ias)):\n",
    "    # the SN nickname\n",
    "    nick = nicks[i]\n",
    "    # the SN skycoord location\n",
    "    sn_loc = sn_coords[i]\n",
    "    \n",
    "    # the nearby to the SN\n",
    "    nearby = nearbys[i]\n",
    "    # getting list of the ids, elliptical parameters for each nearby for this SN\n",
    "    ids = [i for i in nearby.mass[nearby.ids]]\n",
    "    nearby_coords = [i for i in nearby.gal_skycoords()]\n",
    "    a_ellipse = [np.float(i) for i in nearby.photom[nearby.a_ellip]]\n",
    "    b_ellipse = [np.float(i) for i in nearby.photom[nearby.b_ellip]]\n",
    "    theta_ellipse = [np.float(i) for i in nearby.photom[nearby.theta_ellip]]\n",
    "    \n",
    "    \n",
    "    # putting the lists into format needed for second argument of ellipse function.\n",
    "    possible_hosts = [nearby_coords, a_ellipse, b_ellipse, theta_ellipse]\n",
    "    print(possible_hosts)\n",
    "    ellipse(nick.lower()+'.fits',possible_hosts,sn_loc,title='temp_scale',save=False,show=True)"
   ]
  },
  {
   "cell_type": "code",
   "execution_count": 21,
   "metadata": {},
   "outputs": [
    {
     "data": {
      "text/plain": [
       "'b_image'"
      ]
     },
     "execution_count": 21,
     "metadata": {},
     "output_type": "execute_result"
    }
   ],
   "source": [
    "nearby.b_ellip"
   ]
  },
  {
   "cell_type": "code",
   "execution_count": 3,
   "metadata": {},
   "outputs": [
    {
     "name": "stdout",
     "output_type": "stream",
     "text": [
      "Looking at SN: egs11oba\n",
      "Looking at SN: egs11per\n",
      "Looking at SN: egs11tho\n",
      "Looking at SN: egs13rut\n",
      "Looking at SN: egs13wai\n",
      "Looking at SN: gnd12cal\n",
      "Looking at SN: gnd12col\n",
      "Looking at SN: gnd12tom\n",
      "Looking at SN: gnd13cam\n",
      "Looking at SN: gnd13gar\n",
      "Looking at SN: gnd13jay\n",
      "Looking at SN: gnd13sto\n",
      "Looking at SN: gsd10pri\n",
      "Looking at SN: gsd11mad\n",
      "Looking at SN: gsd11was\n",
      "Looking at SN: gsd11wor\n",
      "Looking at SN: gsd12agn\n",
      "Looking at SN: uds10wil\n",
      "Looking at SN: uds11hug\n"
     ]
    }
   ],
   "source": [
    "\n",
    "for nick in nicks:\n",
    "    print('Looking at SN:',nick.lower())\n",
    "    ellip_params = []\n",
    "\n",
    "    shapes = []\n",
    "    \n",
    "    \n",
    "    \"\"\"\n",
    "    for i in candels_possible_hosts_full[nicks.index(nick)]:\n",
    "        if nick[:2].lower() == 'co':\n",
    "            shapes.append(i[-1][-36:-27])\n",
    "        elif nick[:2].lower() == 'eg':\n",
    "            shapes.append(i[-1][457:466])\n",
    "        elif nick[:2].lower() == 'gs':\n",
    "            shapes.append(i[-1][393:401])\n",
    "        elif nick[:2].lower() == 'gn':\n",
    "            shapes.append(i[-1][83:86])\n",
    "        elif nick[:2].lower() == 'ud':\n",
    "            shapes.append(i[-1][91:99])\n",
    "    # cxx,cyy,cxy,a,b,da,db,theta,dtheta...a,b,theta what we need\n",
    "    # cos ''_full[-1][-36:-27] ...3,4,7\n",
    "    # egs ''_full[-1][457:466]... 3,4,7\n",
    "    # goods-s ''_full[-1][393:401]...3,4,7\n",
    "    # uds ''_full[-1][91:99]...3,5,7\n",
    "    # goods-n ''_full[-1][83:86]...1,2,3 \n",
    "    \"\"\"\n",
    "    \n",
    "    \n",
    "#ellipse(nick.lower()+'.fits',ellip_params,sn_position=sn_coords,title='temp_scale',save=False,show=True)"
   ]
  },
  {
   "cell_type": "markdown",
   "metadata": {},
   "source": [
    "with open (r'C:/Users/Kyle/Documents/school/research/summer18/Catalog/supernovae/sourcefiles/candels_sn', 'rb') as fp:\n",
    "    candels = pickle.load(fp)\n",
    "\"\"\"\n",
    "cutout_filenames = [candels[i]['name'] for i in range(len(candels))]\n",
    "coords = [SkyCoord(candels[i]['RA'],candels[i]['DEC'], unit=(u.hourangle,u.deg)) for i in range(len(candels))]\n",
    "print(cutout_filenames)\n",
    "print(coords)\n",
    "for i in range(len(candels)):\n",
    "    sized = u.Quantity((20, 20), u.arcsec)\n",
    "    download_image_save_cutout(coords[i],sized,cutout_filename=cutout_filenames[i]+'.fits')\n",
    "\"\"\"\n",
    "\n",
    "with open (r'C:/Users/Kyle/Documents/school/research/summer18/Catalog/candels_possible_hosts', 'rb') as fp:\n",
    "    candels_possible_hosts = pickle.load(fp)\n",
    "with open('candels_possible_hosts.pkl','rb') as fp:\n",
    "    candels_possible_hosts_full = pickle.load(fp)\n",
    "\n",
    "\n",
    "\n",
    "\n",
    "\n",
    "\n",
    "\n",
    "\n",
    "\n",
    "\n",
    "nicks = [candels_possible_hosts[i]['snid'][0] for i in range(len(candels_possible_hosts))]\n",
    "for nick in nicks:\n",
    "    #print('Looking at SN:',nick.lower())\n",
    "    ellip_params = []\n",
    "\n",
    "    shapes = []\n",
    "    #print('Number of hosts within 5 arcsec are:',len(candels_possible_hosts_full[nicks.index(nick)]))\n",
    "    for i in candels_possible_hosts_full[nicks.index(nick)]:\n",
    "        if nick[:2].lower() == 'co':\n",
    "            shapes.append(i[-1][-36:-27])\n",
    "        elif nick[:2].lower() == 'eg':\n",
    "            shapes.append(i[-1][457:466])\n",
    "        elif nick[:2].lower() == 'gs':\n",
    "            shapes.append(i[-1][393:401])\n",
    "        elif nick[:2].lower() == 'gn':\n",
    "            shapes.append(i[-1][83:86])\n",
    "        elif nick[:2].lower() == 'ud':\n",
    "            shapes.append(i[-1][91:99])\n",
    "    # cxx,cyy,cxy,a,b,da,db,theta,dtheta...a,b,theta what we need\n",
    "    # cos ''_full[-1][-36:-27] ...3,4,7\n",
    "    # egs ''_full[-1][457:466]... 3,4,7\n",
    "    # goods-s ''_full[-1][393:401]...3,4,7\n",
    "    # uds ''_full[-1][91:99]...3,5,7\n",
    "    # goods-n ''_full[-1][83:86]...1,2,3 \n",
    "\n",
    "    #print('They are at coords and have a,b,theta:')\n",
    "    #for i in range(len(candels_possible_hosts[nicks.index(nick)])):\n",
    "    for i in range(3):\n",
    "        if nick[:2].lower() == 'co' or nick[:2].lower() == 'eg' or nick[:2].lower() == 'gs':\n",
    "            a = 3\n",
    "            b = 4\n",
    "            theta = 7\n",
    "        elif nick[:2].lower() == 'gn':\n",
    "            a = 0\n",
    "            b = 1\n",
    "            theta  = 2\n",
    "        elif nick[:2].lower() == 'ud':\n",
    "            a = 3\n",
    "            b = 5\n",
    "            theta = 7\n",
    "        ellip_params.append([candels_possible_hosts_full[nicks.index(nick)][i][0][0],\n",
    "                     shapes[i][a],shapes[i][b],shapes[i][theta]])\n",
    "    #print(ellip_params)\n",
    "    #print(candels_possible_hosts[nicks.index(nick)]['snid'][0])\n",
    "    nicksy = [candels[i]['name'] for i in range(len(candels))]\n",
    "    #print(candels[0])\n",
    "    sn_coords = SkyCoord(candels[nicksy.index(nick)]['RA'],candels[nicksy.index(nick)]['DEC'], unit=(u.hourangle,u.deg))\n",
    "    #print('SN is at:',sn_coords)\n",
    "    #print(candels[nicksy.index(nick)]['name'])\n",
    "\n",
    "    ellipse(nick.lower()+'.fits',ellip_params,sn_position=sn_coords,title='temp_scale',save=False,show=True)"
   ]
  }
 ],
 "metadata": {
  "kernelspec": {
   "display_name": "Python 3",
   "language": "python",
   "name": "python3"
  },
  "language_info": {
   "codemirror_mode": {
    "name": "ipython",
    "version": 3
   },
   "file_extension": ".py",
   "mimetype": "text/x-python",
   "name": "python",
   "nbconvert_exporter": "python",
   "pygments_lexer": "ipython3",
   "version": "3.7.2"
  }
 },
 "nbformat": 4,
 "nbformat_minor": 2
}
